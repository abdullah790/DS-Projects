{
 "cells": [
  {
   "cell_type": "markdown",
   "id": "090e6e24",
   "metadata": {
    "id": "oWrn3EACNdym",
    "papermill": {
     "duration": 0.014447,
     "end_time": "2023-05-04T19:39:18.440660",
     "exception": false,
     "start_time": "2023-05-04T19:39:18.426213",
     "status": "completed"
    },
    "tags": []
   },
   "source": [
    "<h2>Import Libraries</h2>"
   ]
  },
  {
   "cell_type": "code",
   "execution_count": 46,
   "id": "41f165a2",
   "metadata": {
    "execution": {
     "iopub.execute_input": "2023-05-04T19:39:18.465788Z",
     "iopub.status.busy": "2023-05-04T19:39:18.465144Z",
     "iopub.status.idle": "2023-05-04T19:39:18.476342Z",
     "shell.execute_reply": "2023-05-04T19:39:18.474550Z"
    },
    "id": "9dseGZMLNdyw",
    "papermill": {
     "duration": 0.027114,
     "end_time": "2023-05-04T19:39:18.479286",
     "exception": false,
     "start_time": "2023-05-04T19:39:18.452172",
     "status": "completed"
    },
    "tags": []
   },
   "outputs": [],
   "source": [
    "import pandas as pd\n",
    "import numpy as np"
   ]
  },
  {
   "cell_type": "markdown",
   "id": "cb98bde1",
   "metadata": {
    "id": "_yOozfFWNdyz",
    "papermill": {
     "duration": 0.010812,
     "end_time": "2023-05-04T19:39:18.501517",
     "exception": false,
     "start_time": "2023-05-04T19:39:18.490705",
     "status": "completed"
    },
    "tags": []
   },
   "source": [
    "<h2>Reading Dataset</h2> "
   ]
  },
  {
   "cell_type": "code",
   "execution_count": 49,
   "id": "06107f58",
   "metadata": {
    "execution": {
     "iopub.execute_input": "2023-05-04T19:39:18.526893Z",
     "iopub.status.busy": "2023-05-04T19:39:18.526401Z",
     "iopub.status.idle": "2023-05-04T19:39:18.620970Z",
     "shell.execute_reply": "2023-05-04T19:39:18.619857Z"
    },
    "id": "cp0tMIhrNdy2",
    "papermill": {
     "duration": 0.110487,
     "end_time": "2023-05-04T19:39:18.623855",
     "exception": false,
     "start_time": "2023-05-04T19:39:18.513368",
     "status": "completed"
    },
    "tags": []
   },
   "outputs": [],
   "source": [
    "df = pd.read_csv(\"C:/Users/User/Downloads/Telco-Customer-Churn.csv\")\n",
    "#https://drive.google.com/file/d/15DiFz3J0XezApOjYZIon7ozgFnYH-AyE/view?usp=sharing"
   ]
  },
  {
   "cell_type": "markdown",
   "id": "ac6a3a01",
   "metadata": {},
   "source": [
    "<b>The code df.head() is used to display the first few rows of a DataFrame in pandas. It allows you to quickly inspect the data and get an overview of its structure and contents.</b>"
   ]
  },
  {
   "cell_type": "code",
   "execution_count": 52,
   "id": "9d767ac0",
   "metadata": {
    "execution": {
     "iopub.execute_input": "2023-05-04T19:39:18.652730Z",
     "iopub.status.busy": "2023-05-04T19:39:18.651527Z",
     "iopub.status.idle": "2023-05-04T19:39:18.707496Z",
     "shell.execute_reply": "2023-05-04T19:39:18.706211Z"
    },
    "id": "BR7G5HwfNdy2",
    "outputId": "43e3b9dd-178a-4984-ad24-b98739bea881",
    "papermill": {
     "duration": 0.074826,
     "end_time": "2023-05-04T19:39:18.710606",
     "exception": false,
     "start_time": "2023-05-04T19:39:18.635780",
     "status": "completed"
    },
    "scrolled": true,
    "tags": []
   },
   "outputs": [
    {
     "data": {
      "text/html": [
       "<div>\n",
       "<style scoped>\n",
       "    .dataframe tbody tr th:only-of-type {\n",
       "        vertical-align: middle;\n",
       "    }\n",
       "\n",
       "    .dataframe tbody tr th {\n",
       "        vertical-align: top;\n",
       "    }\n",
       "\n",
       "    .dataframe thead th {\n",
       "        text-align: right;\n",
       "    }\n",
       "</style>\n",
       "<table border=\"1\" class=\"dataframe\">\n",
       "  <thead>\n",
       "    <tr style=\"text-align: right;\">\n",
       "      <th></th>\n",
       "      <th>customerID</th>\n",
       "      <th>gender</th>\n",
       "      <th>SeniorCitizen</th>\n",
       "      <th>Partner</th>\n",
       "      <th>Dependents</th>\n",
       "      <th>tenure</th>\n",
       "      <th>PhoneService</th>\n",
       "      <th>MultipleLines</th>\n",
       "      <th>InternetService</th>\n",
       "      <th>OnlineSecurity</th>\n",
       "      <th>...</th>\n",
       "      <th>DeviceProtection</th>\n",
       "      <th>TechSupport</th>\n",
       "      <th>StreamingTV</th>\n",
       "      <th>StreamingMovies</th>\n",
       "      <th>Contract</th>\n",
       "      <th>PaperlessBilling</th>\n",
       "      <th>PaymentMethod</th>\n",
       "      <th>MonthlyCharges</th>\n",
       "      <th>TotalCharges</th>\n",
       "      <th>Churn</th>\n",
       "    </tr>\n",
       "  </thead>\n",
       "  <tbody>\n",
       "    <tr>\n",
       "      <th>0</th>\n",
       "      <td>7590-VHVEG</td>\n",
       "      <td>Female</td>\n",
       "      <td>0</td>\n",
       "      <td>Yes</td>\n",
       "      <td>No</td>\n",
       "      <td>1</td>\n",
       "      <td>No</td>\n",
       "      <td>No phone service</td>\n",
       "      <td>DSL</td>\n",
       "      <td>No</td>\n",
       "      <td>...</td>\n",
       "      <td>No</td>\n",
       "      <td>No</td>\n",
       "      <td>No</td>\n",
       "      <td>No</td>\n",
       "      <td>Month-to-month</td>\n",
       "      <td>Yes</td>\n",
       "      <td>Electronic check</td>\n",
       "      <td>29.85</td>\n",
       "      <td>29.85</td>\n",
       "      <td>No</td>\n",
       "    </tr>\n",
       "    <tr>\n",
       "      <th>1</th>\n",
       "      <td>5575-GNVDE</td>\n",
       "      <td>Male</td>\n",
       "      <td>0</td>\n",
       "      <td>No</td>\n",
       "      <td>No</td>\n",
       "      <td>34</td>\n",
       "      <td>Yes</td>\n",
       "      <td>No</td>\n",
       "      <td>DSL</td>\n",
       "      <td>Yes</td>\n",
       "      <td>...</td>\n",
       "      <td>Yes</td>\n",
       "      <td>No</td>\n",
       "      <td>No</td>\n",
       "      <td>No</td>\n",
       "      <td>One year</td>\n",
       "      <td>No</td>\n",
       "      <td>Mailed check</td>\n",
       "      <td>56.95</td>\n",
       "      <td>1889.5</td>\n",
       "      <td>No</td>\n",
       "    </tr>\n",
       "    <tr>\n",
       "      <th>2</th>\n",
       "      <td>3668-QPYBK</td>\n",
       "      <td>Male</td>\n",
       "      <td>0</td>\n",
       "      <td>No</td>\n",
       "      <td>No</td>\n",
       "      <td>2</td>\n",
       "      <td>Yes</td>\n",
       "      <td>No</td>\n",
       "      <td>DSL</td>\n",
       "      <td>Yes</td>\n",
       "      <td>...</td>\n",
       "      <td>No</td>\n",
       "      <td>No</td>\n",
       "      <td>No</td>\n",
       "      <td>No</td>\n",
       "      <td>Month-to-month</td>\n",
       "      <td>Yes</td>\n",
       "      <td>Mailed check</td>\n",
       "      <td>53.85</td>\n",
       "      <td>108.15</td>\n",
       "      <td>Yes</td>\n",
       "    </tr>\n",
       "    <tr>\n",
       "      <th>3</th>\n",
       "      <td>7795-CFOCW</td>\n",
       "      <td>Male</td>\n",
       "      <td>0</td>\n",
       "      <td>No</td>\n",
       "      <td>No</td>\n",
       "      <td>45</td>\n",
       "      <td>No</td>\n",
       "      <td>No phone service</td>\n",
       "      <td>DSL</td>\n",
       "      <td>Yes</td>\n",
       "      <td>...</td>\n",
       "      <td>Yes</td>\n",
       "      <td>Yes</td>\n",
       "      <td>No</td>\n",
       "      <td>No</td>\n",
       "      <td>One year</td>\n",
       "      <td>No</td>\n",
       "      <td>Bank transfer (automatic)</td>\n",
       "      <td>42.30</td>\n",
       "      <td>1840.75</td>\n",
       "      <td>No</td>\n",
       "    </tr>\n",
       "    <tr>\n",
       "      <th>4</th>\n",
       "      <td>9237-HQITU</td>\n",
       "      <td>Female</td>\n",
       "      <td>0</td>\n",
       "      <td>No</td>\n",
       "      <td>No</td>\n",
       "      <td>2</td>\n",
       "      <td>Yes</td>\n",
       "      <td>No</td>\n",
       "      <td>Fiber optic</td>\n",
       "      <td>No</td>\n",
       "      <td>...</td>\n",
       "      <td>No</td>\n",
       "      <td>No</td>\n",
       "      <td>No</td>\n",
       "      <td>No</td>\n",
       "      <td>Month-to-month</td>\n",
       "      <td>Yes</td>\n",
       "      <td>Electronic check</td>\n",
       "      <td>70.70</td>\n",
       "      <td>151.65</td>\n",
       "      <td>Yes</td>\n",
       "    </tr>\n",
       "  </tbody>\n",
       "</table>\n",
       "<p>5 rows × 21 columns</p>\n",
       "</div>"
      ],
      "text/plain": [
       "   customerID  gender  SeniorCitizen Partner Dependents  tenure PhoneService  \\\n",
       "0  7590-VHVEG  Female              0     Yes         No       1           No   \n",
       "1  5575-GNVDE    Male              0      No         No      34          Yes   \n",
       "2  3668-QPYBK    Male              0      No         No       2          Yes   \n",
       "3  7795-CFOCW    Male              0      No         No      45           No   \n",
       "4  9237-HQITU  Female              0      No         No       2          Yes   \n",
       "\n",
       "      MultipleLines InternetService OnlineSecurity  ... DeviceProtection  \\\n",
       "0  No phone service             DSL             No  ...               No   \n",
       "1                No             DSL            Yes  ...              Yes   \n",
       "2                No             DSL            Yes  ...               No   \n",
       "3  No phone service             DSL            Yes  ...              Yes   \n",
       "4                No     Fiber optic             No  ...               No   \n",
       "\n",
       "  TechSupport StreamingTV StreamingMovies        Contract PaperlessBilling  \\\n",
       "0          No          No              No  Month-to-month              Yes   \n",
       "1          No          No              No        One year               No   \n",
       "2          No          No              No  Month-to-month              Yes   \n",
       "3         Yes          No              No        One year               No   \n",
       "4          No          No              No  Month-to-month              Yes   \n",
       "\n",
       "               PaymentMethod MonthlyCharges  TotalCharges Churn  \n",
       "0           Electronic check          29.85         29.85    No  \n",
       "1               Mailed check          56.95        1889.5    No  \n",
       "2               Mailed check          53.85        108.15   Yes  \n",
       "3  Bank transfer (automatic)          42.30       1840.75    No  \n",
       "4           Electronic check          70.70        151.65   Yes  \n",
       "\n",
       "[5 rows x 21 columns]"
      ]
     },
     "execution_count": 52,
     "metadata": {},
     "output_type": "execute_result"
    }
   ],
   "source": [
    "df.head()"
   ]
  },
  {
   "cell_type": "markdown",
   "id": "fbee2c3f",
   "metadata": {
    "id": "LKLIVYEFQdSC",
    "papermill": {
     "duration": 0.011635,
     "end_time": "2023-05-04T19:39:18.734863",
     "exception": false,
     "start_time": "2023-05-04T19:39:18.723228",
     "status": "completed"
    },
    "tags": []
   },
   "source": [
    "# Exploring data "
   ]
  },
  {
   "cell_type": "code",
   "execution_count": 53,
   "id": "9fb3029c",
   "metadata": {
    "execution": {
     "iopub.execute_input": "2023-05-04T19:39:18.760539Z",
     "iopub.status.busy": "2023-05-04T19:39:18.760109Z",
     "iopub.status.idle": "2023-05-04T19:39:18.783266Z",
     "shell.execute_reply": "2023-05-04T19:39:18.781729Z"
    },
    "id": "LVP4ralgNdy5",
    "outputId": "16781a6c-0684-4476-f76b-e88425ddd0bf",
    "papermill": {
     "duration": 0.040269,
     "end_time": "2023-05-04T19:39:18.786854",
     "exception": false,
     "start_time": "2023-05-04T19:39:18.746585",
     "status": "completed"
    },
    "tags": []
   },
   "outputs": [
    {
     "data": {
      "text/plain": [
       "<bound method DataFrame.info of       customerID  gender  SeniorCitizen Partner Dependents  tenure  \\\n",
       "0     7590-VHVEG  Female              0     Yes         No       1   \n",
       "1     5575-GNVDE    Male              0      No         No      34   \n",
       "2     3668-QPYBK    Male              0      No         No       2   \n",
       "3     7795-CFOCW    Male              0      No         No      45   \n",
       "4     9237-HQITU  Female              0      No         No       2   \n",
       "...          ...     ...            ...     ...        ...     ...   \n",
       "7038  6840-RESVB    Male              0     Yes        Yes      24   \n",
       "7039  2234-XADUH  Female              0     Yes        Yes      72   \n",
       "7040  4801-JZAZL  Female              0     Yes        Yes      11   \n",
       "7041  8361-LTMKD    Male              1     Yes         No       4   \n",
       "7042  3186-AJIEK    Male              0      No         No      66   \n",
       "\n",
       "     PhoneService     MultipleLines InternetService OnlineSecurity  ...  \\\n",
       "0              No  No phone service             DSL             No  ...   \n",
       "1             Yes                No             DSL            Yes  ...   \n",
       "2             Yes                No             DSL            Yes  ...   \n",
       "3              No  No phone service             DSL            Yes  ...   \n",
       "4             Yes                No     Fiber optic             No  ...   \n",
       "...           ...               ...             ...            ...  ...   \n",
       "7038          Yes               Yes             DSL            Yes  ...   \n",
       "7039          Yes               Yes     Fiber optic             No  ...   \n",
       "7040           No  No phone service             DSL            Yes  ...   \n",
       "7041          Yes               Yes     Fiber optic             No  ...   \n",
       "7042          Yes                No     Fiber optic            Yes  ...   \n",
       "\n",
       "     DeviceProtection TechSupport StreamingTV StreamingMovies        Contract  \\\n",
       "0                  No          No          No              No  Month-to-month   \n",
       "1                 Yes          No          No              No        One year   \n",
       "2                  No          No          No              No  Month-to-month   \n",
       "3                 Yes         Yes          No              No        One year   \n",
       "4                  No          No          No              No  Month-to-month   \n",
       "...               ...         ...         ...             ...             ...   \n",
       "7038              Yes         Yes         Yes             Yes        One year   \n",
       "7039              Yes          No         Yes             Yes        One year   \n",
       "7040               No          No          No              No  Month-to-month   \n",
       "7041               No          No          No              No  Month-to-month   \n",
       "7042              Yes         Yes         Yes             Yes        Two year   \n",
       "\n",
       "     PaperlessBilling              PaymentMethod MonthlyCharges  TotalCharges  \\\n",
       "0                 Yes           Electronic check          29.85         29.85   \n",
       "1                  No               Mailed check          56.95        1889.5   \n",
       "2                 Yes               Mailed check          53.85        108.15   \n",
       "3                  No  Bank transfer (automatic)          42.30       1840.75   \n",
       "4                 Yes           Electronic check          70.70        151.65   \n",
       "...               ...                        ...            ...           ...   \n",
       "7038              Yes               Mailed check          84.80        1990.5   \n",
       "7039              Yes    Credit card (automatic)         103.20        7362.9   \n",
       "7040              Yes           Electronic check          29.60        346.45   \n",
       "7041              Yes               Mailed check          74.40         306.6   \n",
       "7042              Yes  Bank transfer (automatic)         105.65        6844.5   \n",
       "\n",
       "     Churn  \n",
       "0       No  \n",
       "1       No  \n",
       "2      Yes  \n",
       "3       No  \n",
       "4      Yes  \n",
       "...    ...  \n",
       "7038    No  \n",
       "7039    No  \n",
       "7040    No  \n",
       "7041   Yes  \n",
       "7042    No  \n",
       "\n",
       "[7043 rows x 21 columns]>"
      ]
     },
     "execution_count": 53,
     "metadata": {},
     "output_type": "execute_result"
    }
   ],
   "source": [
    "df.info"
   ]
  },
  {
   "cell_type": "markdown",
   "id": "2619c899",
   "metadata": {},
   "source": [
    "<h4>The code df.dtypes is used to display the data types of each column in a pandas DataFrame.</h4>"
   ]
  },
  {
   "cell_type": "code",
   "execution_count": 6,
   "id": "9d075b3d",
   "metadata": {
    "execution": {
     "iopub.execute_input": "2023-05-04T19:39:18.814611Z",
     "iopub.status.busy": "2023-05-04T19:39:18.813923Z",
     "iopub.status.idle": "2023-05-04T19:39:18.826699Z",
     "shell.execute_reply": "2023-05-04T19:39:18.825179Z"
    },
    "id": "nIaWxyVRNdy6",
    "outputId": "07827def-f58f-48af-8be6-2c22d7c9cc69",
    "papermill": {
     "duration": 0.029652,
     "end_time": "2023-05-04T19:39:18.829566",
     "exception": false,
     "start_time": "2023-05-04T19:39:18.799914",
     "status": "completed"
    },
    "tags": []
   },
   "outputs": [
    {
     "data": {
      "text/plain": [
       "customerID           object\n",
       "gender               object\n",
       "SeniorCitizen         int64\n",
       "Partner              object\n",
       "Dependents           object\n",
       "tenure                int64\n",
       "PhoneService         object\n",
       "MultipleLines        object\n",
       "InternetService      object\n",
       "OnlineSecurity       object\n",
       "OnlineBackup         object\n",
       "DeviceProtection     object\n",
       "TechSupport          object\n",
       "StreamingTV          object\n",
       "StreamingMovies      object\n",
       "Contract             object\n",
       "PaperlessBilling     object\n",
       "PaymentMethod        object\n",
       "MonthlyCharges      float64\n",
       "TotalCharges         object\n",
       "Churn                object\n",
       "dtype: object"
      ]
     },
     "execution_count": 6,
     "metadata": {},
     "output_type": "execute_result"
    }
   ],
   "source": [
    "df.dtypes"
   ]
  },
  {
   "cell_type": "markdown",
   "id": "53e55b0a",
   "metadata": {},
   "source": [
    "<h4>The code df.describe() is used to generate descriptive statistics of a pandas DataFrame. It provides a summary of the central tendency, dispersion, and shape of the numerical columns in the DataFrame.</h4>"
   ]
  },
  {
   "cell_type": "code",
   "execution_count": 7,
   "id": "84c0c2c7",
   "metadata": {
    "execution": {
     "iopub.execute_input": "2023-05-04T19:39:18.857072Z",
     "iopub.status.busy": "2023-05-04T19:39:18.856299Z",
     "iopub.status.idle": "2023-05-04T19:39:18.884917Z",
     "shell.execute_reply": "2023-05-04T19:39:18.883325Z"
    },
    "id": "1x3G3wltNdy7",
    "outputId": "8e3ce49d-f7fb-4066-f467-2851ea49ed99",
    "papermill": {
     "duration": 0.045684,
     "end_time": "2023-05-04T19:39:18.888111",
     "exception": false,
     "start_time": "2023-05-04T19:39:18.842427",
     "status": "completed"
    },
    "tags": []
   },
   "outputs": [
    {
     "data": {
      "text/html": [
       "<div>\n",
       "<style scoped>\n",
       "    .dataframe tbody tr th:only-of-type {\n",
       "        vertical-align: middle;\n",
       "    }\n",
       "\n",
       "    .dataframe tbody tr th {\n",
       "        vertical-align: top;\n",
       "    }\n",
       "\n",
       "    .dataframe thead th {\n",
       "        text-align: right;\n",
       "    }\n",
       "</style>\n",
       "<table border=\"1\" class=\"dataframe\">\n",
       "  <thead>\n",
       "    <tr style=\"text-align: right;\">\n",
       "      <th></th>\n",
       "      <th>SeniorCitizen</th>\n",
       "      <th>tenure</th>\n",
       "      <th>MonthlyCharges</th>\n",
       "    </tr>\n",
       "  </thead>\n",
       "  <tbody>\n",
       "    <tr>\n",
       "      <th>count</th>\n",
       "      <td>7043.000000</td>\n",
       "      <td>7043.000000</td>\n",
       "      <td>7043.000000</td>\n",
       "    </tr>\n",
       "    <tr>\n",
       "      <th>mean</th>\n",
       "      <td>0.162147</td>\n",
       "      <td>32.371149</td>\n",
       "      <td>64.761692</td>\n",
       "    </tr>\n",
       "    <tr>\n",
       "      <th>std</th>\n",
       "      <td>0.368612</td>\n",
       "      <td>24.559481</td>\n",
       "      <td>30.090047</td>\n",
       "    </tr>\n",
       "    <tr>\n",
       "      <th>min</th>\n",
       "      <td>0.000000</td>\n",
       "      <td>0.000000</td>\n",
       "      <td>18.250000</td>\n",
       "    </tr>\n",
       "    <tr>\n",
       "      <th>25%</th>\n",
       "      <td>0.000000</td>\n",
       "      <td>9.000000</td>\n",
       "      <td>35.500000</td>\n",
       "    </tr>\n",
       "    <tr>\n",
       "      <th>50%</th>\n",
       "      <td>0.000000</td>\n",
       "      <td>29.000000</td>\n",
       "      <td>70.350000</td>\n",
       "    </tr>\n",
       "    <tr>\n",
       "      <th>75%</th>\n",
       "      <td>0.000000</td>\n",
       "      <td>55.000000</td>\n",
       "      <td>89.850000</td>\n",
       "    </tr>\n",
       "    <tr>\n",
       "      <th>max</th>\n",
       "      <td>1.000000</td>\n",
       "      <td>72.000000</td>\n",
       "      <td>118.750000</td>\n",
       "    </tr>\n",
       "  </tbody>\n",
       "</table>\n",
       "</div>"
      ],
      "text/plain": [
       "       SeniorCitizen       tenure  MonthlyCharges\n",
       "count    7043.000000  7043.000000     7043.000000\n",
       "mean        0.162147    32.371149       64.761692\n",
       "std         0.368612    24.559481       30.090047\n",
       "min         0.000000     0.000000       18.250000\n",
       "25%         0.000000     9.000000       35.500000\n",
       "50%         0.000000    29.000000       70.350000\n",
       "75%         0.000000    55.000000       89.850000\n",
       "max         1.000000    72.000000      118.750000"
      ]
     },
     "execution_count": 7,
     "metadata": {},
     "output_type": "execute_result"
    }
   ],
   "source": [
    "df.describe()"
   ]
  },
  {
   "cell_type": "markdown",
   "id": "1d73d0ad",
   "metadata": {},
   "source": [
    "<h4>The code below is used to check for missing values in each column of a pandas DataFrame and calculate the total number of missing values per column.</h4>"
   ]
  },
  {
   "cell_type": "code",
   "execution_count": 8,
   "id": "a5cb8f03",
   "metadata": {
    "execution": {
     "iopub.execute_input": "2023-05-04T19:39:18.915213Z",
     "iopub.status.busy": "2023-05-04T19:39:18.914722Z",
     "iopub.status.idle": "2023-05-04T19:39:18.944982Z",
     "shell.execute_reply": "2023-05-04T19:39:18.943848Z"
    },
    "id": "_yf17M-JNdy9",
    "outputId": "3efd8356-d681-4a74-87ba-1edd332f9396",
    "papermill": {
     "duration": 0.047715,
     "end_time": "2023-05-04T19:39:18.948541",
     "exception": false,
     "start_time": "2023-05-04T19:39:18.900826",
     "status": "completed"
    },
    "tags": []
   },
   "outputs": [
    {
     "data": {
      "text/plain": [
       "customerID          0\n",
       "gender              0\n",
       "SeniorCitizen       0\n",
       "Partner             0\n",
       "Dependents          0\n",
       "tenure              0\n",
       "PhoneService        0\n",
       "MultipleLines       0\n",
       "InternetService     0\n",
       "OnlineSecurity      0\n",
       "OnlineBackup        0\n",
       "DeviceProtection    0\n",
       "TechSupport         0\n",
       "StreamingTV         0\n",
       "StreamingMovies     0\n",
       "Contract            0\n",
       "PaperlessBilling    0\n",
       "PaymentMethod       0\n",
       "MonthlyCharges      0\n",
       "TotalCharges        0\n",
       "Churn               0\n",
       "dtype: int64"
      ]
     },
     "execution_count": 8,
     "metadata": {},
     "output_type": "execute_result"
    }
   ],
   "source": [
    "df.isnull().sum()"
   ]
  },
  {
   "cell_type": "markdown",
   "id": "812e3369",
   "metadata": {},
   "source": [
    "<h3>The code below is used to identify and count the number of duplicated rows in a pandas DataFrame.</h3>"
   ]
  },
  {
   "cell_type": "code",
   "execution_count": 9,
   "id": "8db331ca",
   "metadata": {
    "execution": {
     "iopub.execute_input": "2023-05-04T19:39:18.977785Z",
     "iopub.status.busy": "2023-05-04T19:39:18.976823Z",
     "iopub.status.idle": "2023-05-04T19:39:19.008229Z",
     "shell.execute_reply": "2023-05-04T19:39:19.007214Z"
    },
    "id": "s2dp-vVLNdy-",
    "outputId": "8efa0bec-77ab-4589-96e6-f2ebf76a331a",
    "papermill": {
     "duration": 0.048377,
     "end_time": "2023-05-04T19:39:19.010639",
     "exception": false,
     "start_time": "2023-05-04T19:39:18.962262",
     "status": "completed"
    },
    "tags": []
   },
   "outputs": [
    {
     "data": {
      "text/plain": [
       "0"
      ]
     },
     "execution_count": 9,
     "metadata": {},
     "output_type": "execute_result"
    }
   ],
   "source": [
    "df.duplicated().sum()"
   ]
  },
  {
   "cell_type": "markdown",
   "id": "2e06ba92",
   "metadata": {},
   "source": [
    "<h3>The code df.dropna(how=\"any\", inplace=True) is used to remove rows with missing values from a pandas DataFrame.\n",
    "\n",
    "The dropna() function is applied to the DataFrame df with the parameter how=\"any\", which means that if any of the values in a row are missing, that entire row will be dropped. The inplace=True parameter ensures that the changes are made directly to the DataFrame df without creating a new DataFrame.\n",
    "\n",
    "The code df.shape is then used to retrieve the new dimensions of the DataFrame after the removal of missing values. df.shape returns a tuple representing the number of rows and columns in the DataFrame.\n",
    "</h3>"
   ]
  },
  {
   "cell_type": "code",
   "execution_count": 10,
   "id": "eda470cc",
   "metadata": {
    "execution": {
     "iopub.execute_input": "2023-05-04T19:39:19.039533Z",
     "iopub.status.busy": "2023-05-04T19:39:19.038792Z",
     "iopub.status.idle": "2023-05-04T19:39:19.066141Z",
     "shell.execute_reply": "2023-05-04T19:39:19.064590Z"
    },
    "id": "xA0xRUwGNdzC",
    "papermill": {
     "duration": 0.045701,
     "end_time": "2023-05-04T19:39:19.069276",
     "exception": false,
     "start_time": "2023-05-04T19:39:19.023575",
     "status": "completed"
    },
    "tags": []
   },
   "outputs": [
    {
     "data": {
      "text/plain": [
       "(7043, 21)"
      ]
     },
     "execution_count": 10,
     "metadata": {},
     "output_type": "execute_result"
    }
   ],
   "source": [
    "df.dropna(how=\"any\",inplace=True)\n",
    "df.shape"
   ]
  },
  {
   "cell_type": "markdown",
   "id": "02aeef6b",
   "metadata": {},
   "source": [
    "<h3>Calling df.isnull().sum() will display the count of missing values for each column in the modified DataFrame.</h3>"
   ]
  },
  {
   "cell_type": "code",
   "execution_count": 11,
   "id": "964b80c7",
   "metadata": {
    "execution": {
     "iopub.execute_input": "2023-05-04T19:39:19.134170Z",
     "iopub.status.busy": "2023-05-04T19:39:19.133740Z",
     "iopub.status.idle": "2023-05-04T19:39:19.161522Z",
     "shell.execute_reply": "2023-05-04T19:39:19.160595Z"
    },
    "id": "N91gqHj2NdzJ",
    "outputId": "11e9eb6a-6694-41df-fa02-f7395e770553",
    "papermill": {
     "duration": 0.044865,
     "end_time": "2023-05-04T19:39:19.163683",
     "exception": false,
     "start_time": "2023-05-04T19:39:19.118818",
     "status": "completed"
    },
    "tags": []
   },
   "outputs": [
    {
     "data": {
      "text/plain": [
       "customerID          0\n",
       "gender              0\n",
       "SeniorCitizen       0\n",
       "Partner             0\n",
       "Dependents          0\n",
       "tenure              0\n",
       "PhoneService        0\n",
       "MultipleLines       0\n",
       "InternetService     0\n",
       "OnlineSecurity      0\n",
       "OnlineBackup        0\n",
       "DeviceProtection    0\n",
       "TechSupport         0\n",
       "StreamingTV         0\n",
       "StreamingMovies     0\n",
       "Contract            0\n",
       "PaperlessBilling    0\n",
       "PaymentMethod       0\n",
       "MonthlyCharges      0\n",
       "TotalCharges        0\n",
       "Churn               0\n",
       "dtype: int64"
      ]
     },
     "execution_count": 11,
     "metadata": {},
     "output_type": "execute_result"
    }
   ],
   "source": [
    "df.isnull().sum()"
   ]
  },
  {
   "cell_type": "markdown",
   "id": "aecc9fed",
   "metadata": {},
   "source": [
    "<h3>The code df.columns.values is used to retrieve the column names of a pandas DataFrame df as an array-like object.</h3>"
   ]
  },
  {
   "cell_type": "code",
   "execution_count": 12,
   "id": "25db7383",
   "metadata": {
    "execution": {
     "iopub.execute_input": "2023-05-04T19:39:19.191465Z",
     "iopub.status.busy": "2023-05-04T19:39:19.190771Z",
     "iopub.status.idle": "2023-05-04T19:39:19.197674Z",
     "shell.execute_reply": "2023-05-04T19:39:19.196709Z"
    },
    "id": "ut1Y3-wTNdzL",
    "outputId": "6b4e968f-b5fc-4139-9f08-f5b46dad2807",
    "papermill": {
     "duration": 0.023801,
     "end_time": "2023-05-04T19:39:19.200145",
     "exception": false,
     "start_time": "2023-05-04T19:39:19.176344",
     "status": "completed"
    },
    "tags": []
   },
   "outputs": [
    {
     "data": {
      "text/plain": [
       "array(['customerID', 'gender', 'SeniorCitizen', 'Partner', 'Dependents',\n",
       "       'tenure', 'PhoneService', 'MultipleLines', 'InternetService',\n",
       "       'OnlineSecurity', 'OnlineBackup', 'DeviceProtection',\n",
       "       'TechSupport', 'StreamingTV', 'StreamingMovies', 'Contract',\n",
       "       'PaperlessBilling', 'PaymentMethod', 'MonthlyCharges',\n",
       "       'TotalCharges', 'Churn'], dtype=object)"
      ]
     },
     "execution_count": 12,
     "metadata": {},
     "output_type": "execute_result"
    }
   ],
   "source": [
    "df.columns.values"
   ]
  },
  {
   "cell_type": "markdown",
   "id": "2c427a6b",
   "metadata": {},
   "source": [
    "<h3>The attribute df.columns is used to retrieve the column names of a pandas DataFrame df as an Index object.</h3>"
   ]
  },
  {
   "cell_type": "code",
   "execution_count": 13,
   "id": "2f3d7441",
   "metadata": {
    "execution": {
     "iopub.execute_input": "2023-05-04T19:39:19.228320Z",
     "iopub.status.busy": "2023-05-04T19:39:19.227859Z",
     "iopub.status.idle": "2023-05-04T19:39:19.235708Z",
     "shell.execute_reply": "2023-05-04T19:39:19.234287Z"
    },
    "id": "Y-CygirnNdzM",
    "outputId": "2de95e13-e876-43e0-d07a-c42b14f7ae37",
    "papermill": {
     "duration": 0.025068,
     "end_time": "2023-05-04T19:39:19.238223",
     "exception": false,
     "start_time": "2023-05-04T19:39:19.213155",
     "status": "completed"
    },
    "tags": []
   },
   "outputs": [
    {
     "data": {
      "text/plain": [
       "Index(['customerID', 'gender', 'SeniorCitizen', 'Partner', 'Dependents',\n",
       "       'tenure', 'PhoneService', 'MultipleLines', 'InternetService',\n",
       "       'OnlineSecurity', 'OnlineBackup', 'DeviceProtection', 'TechSupport',\n",
       "       'StreamingTV', 'StreamingMovies', 'Contract', 'PaperlessBilling',\n",
       "       'PaymentMethod', 'MonthlyCharges', 'TotalCharges', 'Churn'],\n",
       "      dtype='object')"
      ]
     },
     "execution_count": 13,
     "metadata": {},
     "output_type": "execute_result"
    }
   ],
   "source": [
    "df.columns"
   ]
  },
  {
   "cell_type": "markdown",
   "id": "2af07f66",
   "metadata": {},
   "source": [
    "<h3>The code df.tail() is used to display the last few rows of a pandas DataFrame df.</h3>"
   ]
  },
  {
   "cell_type": "code",
   "execution_count": 14,
   "id": "918f9945",
   "metadata": {
    "execution": {
     "iopub.execute_input": "2023-05-04T19:39:19.268282Z",
     "iopub.status.busy": "2023-05-04T19:39:19.267566Z",
     "iopub.status.idle": "2023-05-04T19:39:19.288442Z",
     "shell.execute_reply": "2023-05-04T19:39:19.287242Z"
    },
    "id": "rIleRCdkNdzO",
    "outputId": "5682cd7e-caef-4c0a-c876-238e77077b3e",
    "papermill": {
     "duration": 0.038673,
     "end_time": "2023-05-04T19:39:19.291038",
     "exception": false,
     "start_time": "2023-05-04T19:39:19.252365",
     "status": "completed"
    },
    "tags": []
   },
   "outputs": [
    {
     "data": {
      "text/plain": [
       "<bound method NDFrame.tail of       customerID  gender  SeniorCitizen Partner Dependents  tenure  \\\n",
       "0     7590-VHVEG  Female              0     Yes         No       1   \n",
       "1     5575-GNVDE    Male              0      No         No      34   \n",
       "2     3668-QPYBK    Male              0      No         No       2   \n",
       "3     7795-CFOCW    Male              0      No         No      45   \n",
       "4     9237-HQITU  Female              0      No         No       2   \n",
       "...          ...     ...            ...     ...        ...     ...   \n",
       "7038  6840-RESVB    Male              0     Yes        Yes      24   \n",
       "7039  2234-XADUH  Female              0     Yes        Yes      72   \n",
       "7040  4801-JZAZL  Female              0     Yes        Yes      11   \n",
       "7041  8361-LTMKD    Male              1     Yes         No       4   \n",
       "7042  3186-AJIEK    Male              0      No         No      66   \n",
       "\n",
       "     PhoneService     MultipleLines InternetService OnlineSecurity  ...  \\\n",
       "0              No  No phone service             DSL             No  ...   \n",
       "1             Yes                No             DSL            Yes  ...   \n",
       "2             Yes                No             DSL            Yes  ...   \n",
       "3              No  No phone service             DSL            Yes  ...   \n",
       "4             Yes                No     Fiber optic             No  ...   \n",
       "...           ...               ...             ...            ...  ...   \n",
       "7038          Yes               Yes             DSL            Yes  ...   \n",
       "7039          Yes               Yes     Fiber optic             No  ...   \n",
       "7040           No  No phone service             DSL            Yes  ...   \n",
       "7041          Yes               Yes     Fiber optic             No  ...   \n",
       "7042          Yes                No     Fiber optic            Yes  ...   \n",
       "\n",
       "     DeviceProtection TechSupport StreamingTV StreamingMovies        Contract  \\\n",
       "0                  No          No          No              No  Month-to-month   \n",
       "1                 Yes          No          No              No        One year   \n",
       "2                  No          No          No              No  Month-to-month   \n",
       "3                 Yes         Yes          No              No        One year   \n",
       "4                  No          No          No              No  Month-to-month   \n",
       "...               ...         ...         ...             ...             ...   \n",
       "7038              Yes         Yes         Yes             Yes        One year   \n",
       "7039              Yes          No         Yes             Yes        One year   \n",
       "7040               No          No          No              No  Month-to-month   \n",
       "7041               No          No          No              No  Month-to-month   \n",
       "7042              Yes         Yes         Yes             Yes        Two year   \n",
       "\n",
       "     PaperlessBilling              PaymentMethod MonthlyCharges  TotalCharges  \\\n",
       "0                 Yes           Electronic check          29.85         29.85   \n",
       "1                  No               Mailed check          56.95        1889.5   \n",
       "2                 Yes               Mailed check          53.85        108.15   \n",
       "3                  No  Bank transfer (automatic)          42.30       1840.75   \n",
       "4                 Yes           Electronic check          70.70        151.65   \n",
       "...               ...                        ...            ...           ...   \n",
       "7038              Yes               Mailed check          84.80        1990.5   \n",
       "7039              Yes    Credit card (automatic)         103.20        7362.9   \n",
       "7040              Yes           Electronic check          29.60        346.45   \n",
       "7041              Yes               Mailed check          74.40         306.6   \n",
       "7042              Yes  Bank transfer (automatic)         105.65        6844.5   \n",
       "\n",
       "     Churn  \n",
       "0       No  \n",
       "1       No  \n",
       "2      Yes  \n",
       "3       No  \n",
       "4      Yes  \n",
       "...    ...  \n",
       "7038    No  \n",
       "7039    No  \n",
       "7040    No  \n",
       "7041   Yes  \n",
       "7042    No  \n",
       "\n",
       "[7043 rows x 21 columns]>"
      ]
     },
     "execution_count": 14,
     "metadata": {},
     "output_type": "execute_result"
    }
   ],
   "source": [
    "df.tail"
   ]
  },
  {
   "cell_type": "markdown",
   "id": "ded5d142",
   "metadata": {},
   "source": [
    "<h3>The code df.TotalCharges = pd.to_numeric(df.TotalCharges, errors='coerce') is used to convert the values in the \"TotalCharges\" column of a pandas DataFrame df from their current data type to numeric type.</h3>"
   ]
  },
  {
   "cell_type": "code",
   "execution_count": 15,
   "id": "7f4cd54f",
   "metadata": {
    "execution": {
     "iopub.execute_input": "2023-05-04T19:39:19.320730Z",
     "iopub.status.busy": "2023-05-04T19:39:19.320045Z",
     "iopub.status.idle": "2023-05-04T19:39:19.330850Z",
     "shell.execute_reply": "2023-05-04T19:39:19.329902Z"
    },
    "id": "5jja5AQZNdzS",
    "papermill": {
     "duration": 0.027969,
     "end_time": "2023-05-04T19:39:19.333020",
     "exception": false,
     "start_time": "2023-05-04T19:39:19.305051",
     "status": "completed"
    },
    "tags": []
   },
   "outputs": [],
   "source": [
    "df.TotalCharges = pd.to_numeric(df.TotalCharges, errors='coerce')"
   ]
  },
  {
   "cell_type": "markdown",
   "id": "af37d454",
   "metadata": {},
   "source": [
    "<h3>Check for missing values in each column of the DataFrame df.</h3>"
   ]
  },
  {
   "cell_type": "code",
   "execution_count": 16,
   "id": "1010aa59",
   "metadata": {
    "execution": {
     "iopub.execute_input": "2023-05-04T19:39:19.364008Z",
     "iopub.status.busy": "2023-05-04T19:39:19.362628Z",
     "iopub.status.idle": "2023-05-04T19:39:19.392363Z",
     "shell.execute_reply": "2023-05-04T19:39:19.390941Z"
    },
    "id": "A5JfEZEJNdzU",
    "outputId": "f217a7f3-8d9d-44a7-9022-2fee96f731d9",
    "papermill": {
     "duration": 0.04799,
     "end_time": "2023-05-04T19:39:19.394876",
     "exception": false,
     "start_time": "2023-05-04T19:39:19.346886",
     "status": "completed"
    },
    "tags": []
   },
   "outputs": [
    {
     "data": {
      "text/plain": [
       "customerID           0\n",
       "gender               0\n",
       "SeniorCitizen        0\n",
       "Partner              0\n",
       "Dependents           0\n",
       "tenure               0\n",
       "PhoneService         0\n",
       "MultipleLines        0\n",
       "InternetService      0\n",
       "OnlineSecurity       0\n",
       "OnlineBackup         0\n",
       "DeviceProtection     0\n",
       "TechSupport          0\n",
       "StreamingTV          0\n",
       "StreamingMovies      0\n",
       "Contract             0\n",
       "PaperlessBilling     0\n",
       "PaymentMethod        0\n",
       "MonthlyCharges       0\n",
       "TotalCharges        11\n",
       "Churn                0\n",
       "dtype: int64"
      ]
     },
     "execution_count": 16,
     "metadata": {},
     "output_type": "execute_result"
    }
   ],
   "source": [
    "df.isnull().sum()"
   ]
  },
  {
   "cell_type": "markdown",
   "id": "36f31e28",
   "metadata": {},
   "source": [
    "<h3>Remove rows with missing values from a pandas DataFrame df.</h3>"
   ]
  },
  {
   "cell_type": "code",
   "execution_count": 17,
   "id": "b69657b7",
   "metadata": {
    "execution": {
     "iopub.execute_input": "2023-05-04T19:39:19.423765Z",
     "iopub.status.busy": "2023-05-04T19:39:19.423360Z",
     "iopub.status.idle": "2023-05-04T19:39:19.453922Z",
     "shell.execute_reply": "2023-05-04T19:39:19.452287Z"
    },
    "id": "Z-A4VgelNdzV",
    "papermill": {
     "duration": 0.048533,
     "end_time": "2023-05-04T19:39:19.457166",
     "exception": false,
     "start_time": "2023-05-04T19:39:19.408633",
     "status": "completed"
    },
    "tags": []
   },
   "outputs": [],
   "source": [
    "df.dropna(how=\"any\",inplace=True)"
   ]
  },
  {
   "cell_type": "markdown",
   "id": "8d2a13cc",
   "metadata": {},
   "source": [
    "<h3>Display the count of missing values for each column in the modified DataFrame.</h3>"
   ]
  },
  {
   "cell_type": "code",
   "execution_count": 18,
   "id": "089de71a",
   "metadata": {
    "execution": {
     "iopub.execute_input": "2023-05-04T19:39:19.487954Z",
     "iopub.status.busy": "2023-05-04T19:39:19.487537Z",
     "iopub.status.idle": "2023-05-04T19:39:19.516545Z",
     "shell.execute_reply": "2023-05-04T19:39:19.515445Z"
    },
    "id": "AFy9G-_TNdzW",
    "outputId": "45dd1599-fed8-44b4-9fe2-e92cab71584c",
    "papermill": {
     "duration": 0.047973,
     "end_time": "2023-05-04T19:39:19.519810",
     "exception": false,
     "start_time": "2023-05-04T19:39:19.471837",
     "status": "completed"
    },
    "tags": []
   },
   "outputs": [
    {
     "data": {
      "text/plain": [
       "customerID          0\n",
       "gender              0\n",
       "SeniorCitizen       0\n",
       "Partner             0\n",
       "Dependents          0\n",
       "tenure              0\n",
       "PhoneService        0\n",
       "MultipleLines       0\n",
       "InternetService     0\n",
       "OnlineSecurity      0\n",
       "OnlineBackup        0\n",
       "DeviceProtection    0\n",
       "TechSupport         0\n",
       "StreamingTV         0\n",
       "StreamingMovies     0\n",
       "Contract            0\n",
       "PaperlessBilling    0\n",
       "PaymentMethod       0\n",
       "MonthlyCharges      0\n",
       "TotalCharges        0\n",
       "Churn               0\n",
       "dtype: int64"
      ]
     },
     "execution_count": 18,
     "metadata": {},
     "output_type": "execute_result"
    }
   ],
   "source": [
    "df.isnull().sum()"
   ]
  },
  {
   "cell_type": "code",
   "execution_count": 19,
   "id": "d6322477",
   "metadata": {
    "execution": {
     "iopub.execute_input": "2023-05-04T19:39:19.579216Z",
     "iopub.status.busy": "2023-05-04T19:39:19.578771Z",
     "iopub.status.idle": "2023-05-04T19:39:20.976185Z",
     "shell.execute_reply": "2023-05-04T19:39:20.974903Z"
    },
    "id": "yJABoPqwNdzY",
    "papermill": {
     "duration": 1.41563,
     "end_time": "2023-05-04T19:39:20.979106",
     "exception": false,
     "start_time": "2023-05-04T19:39:19.563476",
     "status": "completed"
    },
    "tags": []
   },
   "outputs": [],
   "source": [
    "from sklearn.preprocessing import LabelEncoder"
   ]
  },
  {
   "cell_type": "markdown",
   "id": "219b7358",
   "metadata": {
    "id": "CRtlOH4vQKTn",
    "papermill": {
     "duration": 0.013124,
     "end_time": "2023-05-04T19:39:19.546839",
     "exception": false,
     "start_time": "2023-05-04T19:39:19.533715",
     "status": "completed"
    },
    "tags": []
   },
   "source": [
    "<h3>By executing this code, you are encoding the labels in the \"Churn\" column as integers, which is a common step in preparing categorical data for machine learning algorithms. The encoded values will be numerical representations of the original labels, allowing them to be used as inputs for various machine learning models.</h3>"
   ]
  },
  {
   "cell_type": "code",
   "execution_count": 20,
   "id": "b22d6b40",
   "metadata": {
    "execution": {
     "iopub.execute_input": "2023-05-04T19:39:21.011360Z",
     "iopub.status.busy": "2023-05-04T19:39:21.009959Z",
     "iopub.status.idle": "2023-05-04T19:39:21.024458Z",
     "shell.execute_reply": "2023-05-04T19:39:21.023271Z"
    },
    "id": "cHNrkNSINdzZ",
    "outputId": "70d70972-bbeb-48cb-e46f-c168dad49eaf",
    "papermill": {
     "duration": 0.034048,
     "end_time": "2023-05-04T19:39:21.027312",
     "exception": false,
     "start_time": "2023-05-04T19:39:20.993264",
     "status": "completed"
    },
    "tags": []
   },
   "outputs": [
    {
     "data": {
      "text/plain": [
       "{0: 'No', 1: 'Yes'}"
      ]
     },
     "execution_count": 20,
     "metadata": {},
     "output_type": "execute_result"
    }
   ],
   "source": [
    "encoder = LabelEncoder()\n",
    "df['Churn'] = encoder.fit_transform(df['Churn'])\n",
    "Churn = {index : label for index, label in enumerate(encoder.classes_)}\n",
    "Churn"
   ]
  },
  {
   "cell_type": "markdown",
   "id": "30a71815",
   "metadata": {},
   "source": [
    "<h3>Encoding the labels in the \"PaymentMethod\" column as integers, similar to the previous code snippet. This encoding allows the categorical variable to be used as input in machine learning algorithms that require numerical inputs.</h3>"
   ]
  },
  {
   "cell_type": "code",
   "execution_count": 21,
   "id": "d4f93a44",
   "metadata": {
    "execution": {
     "iopub.execute_input": "2023-05-04T19:39:21.056595Z",
     "iopub.status.busy": "2023-05-04T19:39:21.056183Z",
     "iopub.status.idle": "2023-05-04T19:39:21.067926Z",
     "shell.execute_reply": "2023-05-04T19:39:21.066829Z"
    },
    "id": "NOGqM-FGNdza",
    "outputId": "69f567c6-a37c-48b0-d0ed-81a7ea37f08f",
    "papermill": {
     "duration": 0.029193,
     "end_time": "2023-05-04T19:39:21.070080",
     "exception": false,
     "start_time": "2023-05-04T19:39:21.040887",
     "status": "completed"
    },
    "tags": []
   },
   "outputs": [
    {
     "data": {
      "text/plain": [
       "{0: 'Bank transfer (automatic)',\n",
       " 1: 'Credit card (automatic)',\n",
       " 2: 'Electronic check',\n",
       " 3: 'Mailed check'}"
      ]
     },
     "execution_count": 21,
     "metadata": {},
     "output_type": "execute_result"
    }
   ],
   "source": [
    "df['PaymentMethod'] = encoder.fit_transform(df['PaymentMethod'])\n",
    "PaymentMethod = {index : label for index, label in enumerate(encoder.classes_)}\n",
    "PaymentMethod"
   ]
  },
  {
   "cell_type": "markdown",
   "id": "31da4a55",
   "metadata": {},
   "source": [
    "<h3>Encoding the labels in the \"customerID\" column as integers, similar to the previous code snippet. This encoding allows the categorical variable to be used as input in machine learning algorithms that require numerical inputs.</h3>"
   ]
  },
  {
   "cell_type": "code",
   "execution_count": 22,
   "id": "b7569909",
   "metadata": {
    "execution": {
     "iopub.execute_input": "2023-05-04T19:39:21.099963Z",
     "iopub.status.busy": "2023-05-04T19:39:21.098681Z",
     "iopub.status.idle": "2023-05-04T19:39:21.150386Z",
     "shell.execute_reply": "2023-05-04T19:39:21.149040Z"
    },
    "id": "-FV8V7pSNdzb",
    "outputId": "655857da-2e04-40e7-a42d-54e699c62262",
    "papermill": {
     "duration": 0.069767,
     "end_time": "2023-05-04T19:39:21.153355",
     "exception": false,
     "start_time": "2023-05-04T19:39:21.083588",
     "status": "completed"
    },
    "tags": []
   },
   "outputs": [
    {
     "data": {
      "text/plain": [
       "{0: '0002-ORFBO',\n",
       " 1: '0003-MKNFE',\n",
       " 2: '0004-TLHLJ',\n",
       " 3: '0011-IGKFF',\n",
       " 4: '0013-EXCHZ',\n",
       " 5: '0013-MHZWF',\n",
       " 6: '0013-SMEOE',\n",
       " 7: '0014-BMAQU',\n",
       " 8: '0015-UOCOJ',\n",
       " 9: '0016-QLJIS',\n",
       " 10: '0017-DINOC',\n",
       " 11: '0017-IUDMW',\n",
       " 12: '0018-NYROU',\n",
       " 13: '0019-EFAEP',\n",
       " 14: '0019-GFNTW',\n",
       " 15: '0020-INWCK',\n",
       " 16: '0020-JDNXP',\n",
       " 17: '0021-IKXGC',\n",
       " 18: '0022-TCJCI',\n",
       " 19: '0023-HGHWL',\n",
       " 20: '0023-UYUPN',\n",
       " 21: '0023-XUOPT',\n",
       " 22: '0027-KWYKW',\n",
       " 23: '0030-FNXPP',\n",
       " 24: '0031-PVLZI',\n",
       " 25: '0032-PGELS',\n",
       " 26: '0036-IHMOT',\n",
       " 27: '0040-HALCW',\n",
       " 28: '0042-JVWOJ',\n",
       " 29: '0042-RLHYP',\n",
       " 30: '0048-LUMLS',\n",
       " 31: '0048-PIHNL',\n",
       " 32: '0052-DCKON',\n",
       " 33: '0052-YNYOT',\n",
       " 34: '0056-EPFBG',\n",
       " 35: '0057-QBUQH',\n",
       " 36: '0058-EVZWM',\n",
       " 37: '0060-FUALY',\n",
       " 38: '0064-SUDOG',\n",
       " 39: '0064-YIJGF',\n",
       " 40: '0067-DKWBL',\n",
       " 41: '0068-FIGTF',\n",
       " 42: '0071-NDAFP',\n",
       " 43: '0074-HDKDG',\n",
       " 44: '0076-LVEPS',\n",
       " 45: '0078-XZMHT',\n",
       " 46: '0080-EMYVY',\n",
       " 47: '0080-OROZO',\n",
       " 48: '0082-LDZUE',\n",
       " 49: '0082-OQIQY',\n",
       " 50: '0083-PIVIK',\n",
       " 51: '0089-IIQKO',\n",
       " 52: '0093-EXYQL',\n",
       " 53: '0093-XWZFY',\n",
       " 54: '0094-OIFMO',\n",
       " 55: '0096-BXERS',\n",
       " 56: '0096-FCPUF',\n",
       " 57: '0098-BOWSO',\n",
       " 58: '0100-DUVFC',\n",
       " 59: '0103-CSITQ',\n",
       " 60: '0104-PPXDV',\n",
       " 61: '0106-GHRQR',\n",
       " 62: '0106-UGRDO',\n",
       " 63: '0107-WESLM',\n",
       " 64: '0107-YHINA',\n",
       " 65: '0111-KLBQG',\n",
       " 66: '0112-QAWRZ',\n",
       " 67: '0112-QWPNC',\n",
       " 68: '0114-IGABW',\n",
       " 69: '0114-PEGZZ',\n",
       " 70: '0114-RSRRW',\n",
       " 71: '0115-TFERT',\n",
       " 72: '0117-LFRMW',\n",
       " 73: '0118-JPNOY',\n",
       " 74: '0121-SNYRK',\n",
       " 75: '0122-OAHPZ',\n",
       " 76: '0123-CRBRT',\n",
       " 77: '0125-LZQXK',\n",
       " 78: '0128-MKWSG',\n",
       " 79: '0129-KPTWJ',\n",
       " 80: '0129-QMPDR',\n",
       " 81: '0130-SXOUN',\n",
       " 82: '0133-BMFZO',\n",
       " 83: '0134-XWXCE',\n",
       " 84: '0135-NMXAP',\n",
       " 85: '0136-IFMYD',\n",
       " 86: '0137-OCGAB',\n",
       " 87: '0137-UDEUO',\n",
       " 88: '0139-IVFJG',\n",
       " 89: '0141-YEAYS',\n",
       " 90: '0142-GVYSN',\n",
       " 91: '0147-ESWWR',\n",
       " 92: '0148-DCDOS',\n",
       " 93: '0151-ONTOV',\n",
       " 94: '0156-FVPTA',\n",
       " 95: '0164-APGRB',\n",
       " 96: '0164-XAIRP',\n",
       " 97: '0168-XZKBB',\n",
       " 98: '0174-QRVVY',\n",
       " 99: '0177-PXBAT',\n",
       " 100: '0178-CIIKR',\n",
       " 101: '0178-SZBHO',\n",
       " 102: '0181-RITDD',\n",
       " 103: '0186-CAERR',\n",
       " 104: '0187-QSXOE',\n",
       " 105: '0187-WZNAB',\n",
       " 106: '0188-GWFLE',\n",
       " 107: '0191-EQUUH',\n",
       " 108: '0191-ZHSKZ',\n",
       " 109: '0193-ESZXP',\n",
       " 110: '0195-IESCP',\n",
       " 111: '0196-JTUQI',\n",
       " 112: '0196-VULGZ',\n",
       " 113: '0197-PNKNK',\n",
       " 114: '0201-MIBOL',\n",
       " 115: '0201-OAMXR',\n",
       " 116: '0203-HHYIJ',\n",
       " 117: '0206-OYVOC',\n",
       " 118: '0206-TBWLC',\n",
       " 119: '0207-MDKNV',\n",
       " 120: '0208-BPQEJ',\n",
       " 121: '0212-ISBBF',\n",
       " 122: '0214-JHPFW',\n",
       " 123: '0215-BQKGS',\n",
       " 124: '0218-QNVAS',\n",
       " 125: '0219-QAERP',\n",
       " 126: '0219-YTZUE',\n",
       " 127: '0220-EBGCE',\n",
       " 128: '0221-NAUXK',\n",
       " 129: '0221-WMXNQ',\n",
       " 130: '0222-CNVPT',\n",
       " 131: '0224-HJAPT',\n",
       " 132: '0224-NIJLP',\n",
       " 133: '0224-RLWWD',\n",
       " 134: '0225-ZORZP',\n",
       " 135: '0228-MAUWC',\n",
       " 136: '0229-LFJAF',\n",
       " 137: '0230-UBYPQ',\n",
       " 138: '0230-WEQUW',\n",
       " 139: '0231-LXVAP',\n",
       " 140: '0233-FTHAV',\n",
       " 141: '0234-TEVTT',\n",
       " 142: '0235-KGSLC',\n",
       " 143: '0236-HFWSV',\n",
       " 144: '0237-YFUTL',\n",
       " 145: '0238-WHBIQ',\n",
       " 146: '0239-OXEXL',\n",
       " 147: '0244-LGNFY',\n",
       " 148: '0247-SLUJI',\n",
       " 149: '0248-IPDFW',\n",
       " 150: '0248-PGHBZ',\n",
       " 151: '0253-ZTEOB',\n",
       " 152: '0254-FNMCI',\n",
       " 153: '0254-KCJGT',\n",
       " 154: '0254-WWRKD',\n",
       " 155: '0256-LTHVJ',\n",
       " 156: '0257-KXZGU',\n",
       " 157: '0257-ZESQC',\n",
       " 158: '0258-NOKBL',\n",
       " 159: '0259-GBZSH',\n",
       " 160: '0260-ZDLGK',\n",
       " 161: '0263-FJTQO',\n",
       " 162: '0264-CNITK',\n",
       " 163: '0265-EDXBD',\n",
       " 164: '0265-PSUAE',\n",
       " 165: '0266-CLZKZ',\n",
       " 166: '0266-GMEAO',\n",
       " 167: '0268-QKIWO',\n",
       " 168: '0269-XFESX',\n",
       " 169: '0270-THENM',\n",
       " 170: '0274-JKUJR',\n",
       " 171: '0277-BKSQP',\n",
       " 172: '0277-ORXQS',\n",
       " 173: '0278-YXOOG',\n",
       " 174: '0280-XJGEX',\n",
       " 175: '0281-CNTZX',\n",
       " 176: '0282-NVSJS',\n",
       " 177: '0285-INHLN',\n",
       " 178: '0289-IVARM',\n",
       " 179: '0292-WEGCH',\n",
       " 180: '0295-PPHDO',\n",
       " 181: '0295-QVKPB',\n",
       " 182: '0297-RBCSG',\n",
       " 183: '0298-XACET',\n",
       " 184: '0301-FIDRB',\n",
       " 185: '0301-KOBTQ',\n",
       " 186: '0302-JOIVN',\n",
       " 187: '0303-UNCIP',\n",
       " 188: '0303-WMMRN',\n",
       " 189: '0305-SQECB',\n",
       " 190: '0306-JAELE',\n",
       " 191: '0307-BCOPK',\n",
       " 192: '0308-GIQJT',\n",
       " 193: '0308-IVGOK',\n",
       " 194: '0310-MVLET',\n",
       " 195: '0310-SUCIN',\n",
       " 196: '0310-VQXAM',\n",
       " 197: '0311-QYWSS',\n",
       " 198: '0311-UNPFF',\n",
       " 199: '0314-TKOSI',\n",
       " 200: '0315-LVCRK',\n",
       " 201: '0318-QUUOB',\n",
       " 202: '0318-ZOPWS',\n",
       " 203: '0319-QZTCO',\n",
       " 204: '0320-DWVTU',\n",
       " 205: '0320-JDNQG',\n",
       " 206: '0322-CHQRU',\n",
       " 207: '0322-YINQP',\n",
       " 208: '0323-XWWTN',\n",
       " 209: '0324-BRPCJ',\n",
       " 210: '0325-XBFAC',\n",
       " 211: '0326-VDYXE',\n",
       " 212: '0327-WFZSY',\n",
       " 213: '0328-GRPMV',\n",
       " 214: '0329-GTIAJ',\n",
       " 215: '0330-BGYZE',\n",
       " 216: '0330-IVZHA',\n",
       " 217: '0334-GDDSO',\n",
       " 218: '0334-ZFJSR',\n",
       " 219: '0336-KXKFK',\n",
       " 220: '0336-PIKEI',\n",
       " 221: '0337-CNPZE',\n",
       " 222: '0343-QLUZP',\n",
       " 223: '0345-HKJVM',\n",
       " 224: '0345-XMMUG',\n",
       " 225: '0347-UBKUZ',\n",
       " 226: '0348-SDKOL',\n",
       " 227: '0354-VXMJC',\n",
       " 228: '0354-WYROK',\n",
       " 229: '0356-ERHVT',\n",
       " 230: '0356-OBMAC',\n",
       " 231: '0357-NVCRI',\n",
       " 232: '0361-HJRDX',\n",
       " 233: '0362-RAOQO',\n",
       " 234: '0362-ZBZWJ',\n",
       " 235: '0363-QJVFX',\n",
       " 236: '0363-SVHYR',\n",
       " 237: '0365-BZUWY',\n",
       " 238: '0365-GXEZS',\n",
       " 239: '0365-TRTPY',\n",
       " 240: '0366-NQSHS',\n",
       " 241: '0369-ZGOVK',\n",
       " 242: '0373-AIVNJ',\n",
       " 243: '0374-AACSZ',\n",
       " 244: '0374-FIUCA',\n",
       " 245: '0374-IOEGQ',\n",
       " 246: '0375-HVGXO',\n",
       " 247: '0376-OIWME',\n",
       " 248: '0376-YMCJC',\n",
       " 249: '0377-JBKKT',\n",
       " 250: '0378-CJKPV',\n",
       " 251: '0378-NHQXU',\n",
       " 252: '0378-TOVMS',\n",
       " 253: '0378-XSZPU',\n",
       " 254: '0379-DJQHR',\n",
       " 255: '0380-NEAVX',\n",
       " 256: '0380-ZCSBI',\n",
       " 257: '0383-CLDDA',\n",
       " 258: '0384-LPITE',\n",
       " 259: '0384-RVBPI',\n",
       " 260: '0386-CWRGM',\n",
       " 261: '0388-EOPEX',\n",
       " 262: '0390-DCFDQ',\n",
       " 263: '0392-BZIUW',\n",
       " 264: '0394-YONDK',\n",
       " 265: '0396-HUJBP',\n",
       " 266: '0396-UKGAI',\n",
       " 267: '0396-YCHWO',\n",
       " 268: '0397-GZBBC',\n",
       " 269: '0397-ZXWQF',\n",
       " 270: '0401-WDBXM',\n",
       " 271: '0402-CQAJN',\n",
       " 272: '0402-OAMEN',\n",
       " 273: '0404-AHASP',\n",
       " 274: '0404-SWRVG',\n",
       " 275: '0406-BPDVR',\n",
       " 276: '0407-BDJKB',\n",
       " 277: '0409-WTMPL',\n",
       " 278: '0410-IPFTY',\n",
       " 279: '0411-EZJZE',\n",
       " 280: '0412-UCCNP',\n",
       " 281: '0415-MOSGF',\n",
       " 282: '0419-YAAPX',\n",
       " 283: '0420-BWTPW',\n",
       " 284: '0420-HLGXF',\n",
       " 285: '0420-TXVSG',\n",
       " 286: '0422-OHQHQ',\n",
       " 287: '0422-UXFAP',\n",
       " 288: '0423-UDIJQ',\n",
       " 289: '0426-TIRNE',\n",
       " 290: '0428-AXXLJ',\n",
       " 291: '0428-IKYCP',\n",
       " 292: '0430-IHCDJ',\n",
       " 293: '0431-APWVY',\n",
       " 294: '0432-CAJZV',\n",
       " 295: '0434-CSFON',\n",
       " 296: '0436-TWFFZ',\n",
       " 297: '0439-IFYUN',\n",
       " 298: '0440-EKDCF',\n",
       " 299: '0440-MOGPM',\n",
       " 300: '0440-QEXBZ',\n",
       " 301: '0440-UEDAI',\n",
       " 302: '0442-TDYUO',\n",
       " 303: '0442-ZXKVS',\n",
       " 304: '0447-BEMNG',\n",
       " 305: '0447-RXSGD',\n",
       " 306: '0454-OKRCT',\n",
       " 307: '0455-ENTCR',\n",
       " 308: '0455-XFASS',\n",
       " 309: '0458-HEUZG',\n",
       " 310: '0459-SPZHJ',\n",
       " 311: '0461-CVKMU',\n",
       " 312: '0463-TXOAK',\n",
       " 313: '0463-WZZKO',\n",
       " 314: '0463-ZSDNT',\n",
       " 315: '0464-WJTKO',\n",
       " 316: '0468-YRPXN',\n",
       " 317: '0471-ARVMX',\n",
       " 318: '0471-LVHGK',\n",
       " 319: '0475-RIJEP',\n",
       " 320: '0479-HMSWA',\n",
       " 321: '0480-BIXDE',\n",
       " 322: '0480-KYJVA',\n",
       " 323: '0481-SUMCB',\n",
       " 324: '0484-FFVBJ',\n",
       " 325: '0484-JPBRU',\n",
       " 326: '0485-ZBSLN',\n",
       " 327: '0486-HECZI',\n",
       " 328: '0486-LGCCH',\n",
       " 329: '0487-CRLZF',\n",
       " 330: '0487-RPVUM',\n",
       " 331: '0487-VVUVK',\n",
       " 332: '0488-GSLFR',\n",
       " 333: '0489-WMEMG',\n",
       " 334: '0491-KAPQG',\n",
       " 335: '0495-RVCBF',\n",
       " 336: '0495-ZBNGW',\n",
       " 337: '0496-AHOOK',\n",
       " 338: '0504-HHAPI',\n",
       " 339: '0505-SPOOW',\n",
       " 340: '0506-LVNGN',\n",
       " 341: '0506-YLVKJ',\n",
       " 342: '0508-OOLTO',\n",
       " 343: '0508-SQWPL',\n",
       " 344: '0511-JTEOY',\n",
       " 345: '0512-FLFDW',\n",
       " 346: '0513-RBGPE',\n",
       " 347: '0515-YPMCW',\n",
       " 348: '0516-OOHAR',\n",
       " 349: '0516-QREYC',\n",
       " 350: '0516-UXRMT',\n",
       " 351: '0516-VRYBW',\n",
       " 352: '0516-WJVXC',\n",
       " 353: '0519-DRGTI',\n",
       " 354: '0519-XUZJU',\n",
       " 355: '0520-FDVVT',\n",
       " 356: '0523-VNGTF',\n",
       " 357: '0524-IAVZO',\n",
       " 358: '0526-SXDJP',\n",
       " 359: '0529-ONKER',\n",
       " 360: '0530-IJVDB',\n",
       " 361: '0531-XBKMM',\n",
       " 362: '0531-ZZJWQ',\n",
       " 363: '0533-BNWKF',\n",
       " 364: '0533-UCAAU',\n",
       " 365: '0536-ACXIP',\n",
       " 366: '0536-BGFMZ',\n",
       " 367: '0536-ESJEP',\n",
       " 368: '0537-QYZZN',\n",
       " 369: '0541-FITGH',\n",
       " 370: '0547-HURJB',\n",
       " 371: '0549-CYCQN',\n",
       " 372: '0550-DCXLH',\n",
       " 373: '0556-FJEGU',\n",
       " 374: '0557-ASKVU',\n",
       " 375: '0559-CKHUS',\n",
       " 376: '0562-FGDCR',\n",
       " 377: '0562-HKHML',\n",
       " 378: '0562-KBDVM',\n",
       " 379: '0564-JJHGS',\n",
       " 380: '0564-MUUQK',\n",
       " 381: '0565-IYCGT',\n",
       " 382: '0565-JUPYD',\n",
       " 383: '0567-GGCAC',\n",
       " 384: '0567-XRHCU',\n",
       " 385: '0568-ONFPC',\n",
       " 386: '0570-BFQHT',\n",
       " 387: '0572-ZJKLT',\n",
       " 388: '0575-CUQOV',\n",
       " 389: '0576-WNXXC',\n",
       " 390: '0577-WHMEV',\n",
       " 391: '0578-SKVMF',\n",
       " 392: '0580-PIQHM',\n",
       " 393: '0581-BXBUB',\n",
       " 394: '0581-MDMPW',\n",
       " 395: '0582-AVCLN',\n",
       " 396: '0584-BJQGZ',\n",
       " 397: '0585-EGDDA',\n",
       " 398: '0587-DMGBH',\n",
       " 399: '0594-UFTUL',\n",
       " 400: '0595-ITUDF',\n",
       " 401: '0596-BQCEQ',\n",
       " 402: '0599-XNYDO',\n",
       " 403: '0601-WZHJF',\n",
       " 404: '0602-DDUML',\n",
       " 405: '0603-OLQDC',\n",
       " 406: '0603-TPMIB',\n",
       " 407: '0604-THJFP',\n",
       " 408: '0607-DAAHE',\n",
       " 409: '0607-MVMGC',\n",
       " 410: '0608-JDVEC',\n",
       " 411: '0611-DFXKO',\n",
       " 412: '0612-RTZZA',\n",
       " 413: '0613-WUXUM',\n",
       " 414: '0616-ATFGB',\n",
       " 415: '0617-AQNWT',\n",
       " 416: '0617-FHSGK',\n",
       " 417: '0618-XWMSS',\n",
       " 418: '0619-OLYUR',\n",
       " 419: '0620-DLSLK',\n",
       " 420: '0620-XEFWH',\n",
       " 421: '0621-CXBKL',\n",
       " 422: '0621-HJWXJ',\n",
       " 423: '0621-JFHOL',\n",
       " 424: '0621-TSSMU',\n",
       " 425: '0621-TWIEM',\n",
       " 426: '0623-EJQEG',\n",
       " 427: '0623-GDISB',\n",
       " 428: '0623-IIHUG',\n",
       " 429: '0625-AFOHS',\n",
       " 430: '0626-QXNGV',\n",
       " 431: '0628-CNQRM',\n",
       " 432: '0634-SZPQA',\n",
       " 433: '0635-WKOLD',\n",
       " 434: '0637-KVDLV',\n",
       " 435: '0637-UBJRP',\n",
       " 436: '0637-YLETY',\n",
       " 437: '0639-TSIQW',\n",
       " 438: '0640-YJTPY',\n",
       " 439: '0641-EVBOJ',\n",
       " 440: '0643-OKLRP',\n",
       " 441: '0644-OQMDK',\n",
       " 442: '0650-BWOZN',\n",
       " 443: '0654-HMSHN',\n",
       " 444: '0654-PQKDW',\n",
       " 445: '0655-RBDUG',\n",
       " 446: '0655-YDGFJ',\n",
       " 447: '0657-DOGUM',\n",
       " 448: '0661-KBKPA',\n",
       " 449: '0661-KQHNK',\n",
       " 450: '0661-WCQNQ',\n",
       " 451: '0661-XEYAN',\n",
       " 452: '0665-XHDJU',\n",
       " 453: '0666-UXTJO',\n",
       " 454: '0667-NSRGI',\n",
       " 455: '0668-OGMHD',\n",
       " 456: '0670-ANMUU',\n",
       " 457: '0670-KDOMA',\n",
       " 458: '0673-IGUQO',\n",
       " 459: '0674-DGMAQ',\n",
       " 460: '0674-EYYZV',\n",
       " 461: '0674-GCDXG',\n",
       " 462: '0675-NCDYU',\n",
       " 463: '0678-RLHVP',\n",
       " 464: '0679-IDSTG',\n",
       " 465: '0679-TDGAK',\n",
       " 466: '0680-DFNNY',\n",
       " 467: '0682-USIXD',\n",
       " 468: '0684-AOSIH',\n",
       " 469: '0685-MLYYM',\n",
       " 470: '0687-ZVTHB',\n",
       " 471: '0689-DSXGL',\n",
       " 472: '0689-NKYLF',\n",
       " 473: '0690-SRQID',\n",
       " 474: '0691-IFBQW',\n",
       " 475: '0691-JVSYA',\n",
       " 476: '0691-NIKRI',\n",
       " 477: '0696-UKTOX',\n",
       " 478: '0697-ZMSWS',\n",
       " 479: '0699-NDKJM',\n",
       " 480: '0701-RFGFI',\n",
       " 481: '0701-TJSEF',\n",
       " 482: '0702-PGIBZ',\n",
       " 483: '0704-VCUMB',\n",
       " 484: '0707-HOVVN',\n",
       " 485: '0708-LGSMF',\n",
       " 486: '0708-SJDIS',\n",
       " 487: '0709-TVGUR',\n",
       " 488: '0716-BQNDX',\n",
       " 489: '0719-SYFRB',\n",
       " 490: '0722-SVSFK',\n",
       " 491: '0722-TROQR',\n",
       " 492: '0723-DRCLG',\n",
       " 493: '0723-FDLAY',\n",
       " 494: '0723-VSOBE',\n",
       " 495: '0725-CXOTM',\n",
       " 496: '0727-BMPLR',\n",
       " 497: '0727-BNRLG',\n",
       " 498: '0727-IWKVK',\n",
       " 499: '0730-BGQGF',\n",
       " 500: '0730-KOAVE',\n",
       " 501: '0731-EBJQB',\n",
       " 502: '0732-OCQOC',\n",
       " 503: '0733-VUNUW',\n",
       " 504: '0734-OXWBT',\n",
       " 505: '0739-UUAJR',\n",
       " 506: '0742-LAFQK',\n",
       " 507: '0742-MOABM',\n",
       " 508: '0742-NXBGR',\n",
       " 509: '0743-HNPFG',\n",
       " 510: '0743-HRVFF',\n",
       " 511: '0744-BIKKF',\n",
       " 512: '0744-GKNGE',\n",
       " 513: '0746-JTRFU',\n",
       " 514: '0748-RDGGM',\n",
       " 515: '0749-IRGQE',\n",
       " 516: '0750-EBAIU',\n",
       " 517: '0750-EKNGL',\n",
       " 518: '0754-EEBDC',\n",
       " 519: '0754-UKWQP',\n",
       " 520: '0756-MPZRL',\n",
       " 521: '0757-WCUUZ',\n",
       " 522: '0761-AETCS',\n",
       " 523: '0769-MURVM',\n",
       " 524: '0771-CHWSK',\n",
       " 525: '0771-WLCLA',\n",
       " 526: '0772-GYEQQ',\n",
       " 527: '0774-IFUVM',\n",
       " 528: '0774-RMNUW',\n",
       " 529: '0778-NELLA',\n",
       " 530: '0780-XNZFN',\n",
       " 531: '0781-LKXBR',\n",
       " 532: '0784-GTUUK',\n",
       " 533: '0784-ZQJZX',\n",
       " 534: '0786-IVLAW',\n",
       " 535: '0786-VSSUD',\n",
       " 536: '0787-LHDYT',\n",
       " 537: '0788-DXBFY',\n",
       " 538: '0793-TWELN',\n",
       " 539: '0794-YVSGE',\n",
       " 540: '0795-GMVQO',\n",
       " 541: '0795-LAFGP',\n",
       " 542: '0795-XCCTE',\n",
       " 543: '0799-DDIHE',\n",
       " 544: '0804-XBFBV',\n",
       " 545: '0804-YGEQV',\n",
       " 546: '0807-ZABDG',\n",
       " 547: '0810-BDHAW',\n",
       " 548: '0810-DHDBD',\n",
       " 549: '0811-GSDTP',\n",
       " 550: '0812-WUPTB',\n",
       " 551: '0813-TAXXS',\n",
       " 552: '0815-MFZGM',\n",
       " 553: '0816-TSPHQ',\n",
       " 554: '0817-HSUSE',\n",
       " 555: '0818-OCPZO',\n",
       " 556: '0820-FNRNX',\n",
       " 557: '0822-GAVAP',\n",
       " 558: '0822-QGCXA',\n",
       " 559: '0823-HSCDJ',\n",
       " 560: '0824-VWDPO',\n",
       " 561: '0825-CPPQH',\n",
       " 562: '0827-ITJPH',\n",
       " 563: '0829-DDVLK',\n",
       " 564: '0829-XXPLX',\n",
       " 565: '0831-JNISG',\n",
       " 566: '0835-DUUIQ',\n",
       " 567: '0835-JKADZ',\n",
       " 568: '0836-SEYLU',\n",
       " 569: '0839-JTCUD',\n",
       " 570: '0839-QNXME',\n",
       " 571: '0840-DCNZE',\n",
       " 572: '0840-DFEZH',\n",
       " 573: '0841-NULXI',\n",
       " 574: '0842-IWYCP',\n",
       " 575: '0843-WTBXE',\n",
       " 576: '0847-HGRML',\n",
       " 577: '0848-SOMKO',\n",
       " 578: '0848-ZGQIJ',\n",
       " 579: '0851-DFJKB',\n",
       " 580: '0853-NWIFK',\n",
       " 581: '0853-TWRVK',\n",
       " 582: '0854-UYHZD',\n",
       " 583: '0856-NAOES',\n",
       " 584: '0859-YGKFW',\n",
       " 585: '0862-PRCBS',\n",
       " 586: '0864-FVJNJ',\n",
       " 587: '0866-QLSIR',\n",
       " 588: '0867-LDTTC',\n",
       " 589: '0867-MKZVY',\n",
       " 590: '0868-VJRDR',\n",
       " 591: '0869-PAPRP',\n",
       " 592: '0870-VEMYL',\n",
       " 593: '0871-OPBXW',\n",
       " 594: '0871-URUWO',\n",
       " 595: '0872-CASZJ',\n",
       " 596: '0872-JCPIB',\n",
       " 597: '0872-NXJYS',\n",
       " 598: '0875-CABNR',\n",
       " 599: '0876-WDUUZ',\n",
       " 600: '0877-SDMBN',\n",
       " 601: '0880-FVFWF',\n",
       " 602: '0880-TKATG',\n",
       " 603: '0883-EIBTI',\n",
       " 604: '0885-HMGPY',\n",
       " 605: '0886-QGENL',\n",
       " 606: '0887-HJGAR',\n",
       " 607: '0887-WBJVH',\n",
       " 608: '0895-DQHEW',\n",
       " 609: '0895-LMRSF',\n",
       " 610: '0895-LNKRC',\n",
       " 611: '0895-UADGO',\n",
       " 612: '0897-FEGMU',\n",
       " 613: '0898-XCGTF',\n",
       " 614: '0899-LIIBW',\n",
       " 615: '0899-WZRSD',\n",
       " 616: '0902-RFHOF',\n",
       " 617: '0902-XKXPN',\n",
       " 618: '0906-QVPMS',\n",
       " 619: '0907-HQNTS',\n",
       " 620: '0909-SDHNU',\n",
       " 621: '0909-SELIE',\n",
       " 622: '0913-XWSCN',\n",
       " 623: '0916-KNFAJ',\n",
       " 624: '0916-QOFDP',\n",
       " 625: '0917-EZOLA',\n",
       " 626: '0921-OHLVP',\n",
       " 627: '0923-PNFUB',\n",
       " 628: '0924-BJCRC',\n",
       " 629: '0925-VYDLG',\n",
       " 630: '0927-CNGRH',\n",
       " 631: '0927-LCSMG',\n",
       " 632: '0928-JMXNP',\n",
       " 633: '0928-XUTSN',\n",
       " 634: '0929-HYQEW',\n",
       " 635: '0929-PECLO',\n",
       " 636: '0930-EHUZA',\n",
       " 637: '0931-MHTEM',\n",
       " 638: '0932-YIXYU',\n",
       " 639: '0936-NQLJU',\n",
       " 640: '0939-EREMR',\n",
       " 641: '0939-YAPAF',\n",
       " 642: '0940-OUQEC',\n",
       " 643: '0942-KOWSM',\n",
       " 644: '0943-ZQPXH',\n",
       " 645: '0945-TSONX',\n",
       " 646: '0946-CLJTI',\n",
       " 647: '0946-FKYTX',\n",
       " 648: '0947-IDHRQ',\n",
       " 649: '0947-MUGVO',\n",
       " 650: '0952-KMEEH',\n",
       " 651: '0953-LGOVU',\n",
       " 652: '0956-ACVZC',\n",
       " 653: '0956-SYCWG',\n",
       " 654: '0958-YHXGP',\n",
       " 655: '0959-WHOKV',\n",
       " 656: '0960-HUWBM',\n",
       " 657: '0961-ZWLVI',\n",
       " 658: '0962-CQPWQ',\n",
       " 659: '0963-ZBDRN',\n",
       " 660: '0967-BMLBD',\n",
       " 661: '0968-GSIKN',\n",
       " 662: '0969-RGKCU',\n",
       " 663: '0970-ETWGE',\n",
       " 664: '0970-QXPXW',\n",
       " 665: '0971-QIFJK',\n",
       " 666: '0973-KYVNF',\n",
       " 667: '0975-UYDTX',\n",
       " 668: '0975-VOOVL',\n",
       " 669: '0979-MOZQI',\n",
       " 670: '0979-PHULV',\n",
       " 671: '0980-FEXWF',\n",
       " 672: '0980-PVMRC',\n",
       " 673: '0983-TATYJ',\n",
       " 674: '0988-AADSA',\n",
       " 675: '0988-JRWWP',\n",
       " 676: '0991-BRRFB',\n",
       " 677: '0993-OSGPT',\n",
       " 678: '0997-YTLNY',\n",
       " 679: '0999-QXNSA',\n",
       " 680: '1000-AJSLD',\n",
       " 681: '1004-NOZNR',\n",
       " 682: '1009-IRMNA',\n",
       " 683: '1010-DIAUQ',\n",
       " 684: '1013-QCWAM',\n",
       " 685: '1015-JPFYW',\n",
       " 686: '1015-OWJKI',\n",
       " 687: '1016-DJTSV',\n",
       " 688: '1017-FBQMM',\n",
       " 689: '1020-JPQOW',\n",
       " 690: '1022-RKXDR',\n",
       " 691: '1023-BQXZE',\n",
       " 692: '1024-GUALD',\n",
       " 693: '1024-KPRBB',\n",
       " 694: '1024-VRZHF',\n",
       " 695: '1025-FALIX',\n",
       " 696: '1027-LKKQQ',\n",
       " 697: '1028-FFNJK',\n",
       " 698: '1029-QFBEN',\n",
       " 699: '1031-IIDEO',\n",
       " 700: '1032-MAELW',\n",
       " 701: '1035-IPQPU',\n",
       " 702: '1036-GUDCL',\n",
       " 703: '1038-RQOST',\n",
       " 704: '1038-ZAGBI',\n",
       " 705: '1041-RXHRA',\n",
       " 706: '1042-HFUCW',\n",
       " 707: '1043-UXOVO',\n",
       " 708: '1043-YCUTE',\n",
       " 709: '1045-LTCYT',\n",
       " 710: '1047-NNCBF',\n",
       " 711: '1047-RNXZV',\n",
       " 712: '1049-FYSYG',\n",
       " 713: '1051-EQPZR',\n",
       " 714: '1051-GEJLJ',\n",
       " 715: '1052-QJIBV',\n",
       " 716: '1053-MXTTK',\n",
       " 717: '1057-FOGLZ',\n",
       " 718: '1060-ENTOF',\n",
       " 719: '1061-PNTHC',\n",
       " 720: '1062-LHZOD',\n",
       " 721: '1063-DHQJF',\n",
       " 722: '1064-FBXNK',\n",
       " 723: '1066-JKSGK',\n",
       " 724: '1069-QJOEE',\n",
       " 725: '1069-XAIEM',\n",
       " 726: '1073-XXCZD',\n",
       " 727: '1074-AMIOH',\n",
       " 728: '1074-WVEVG',\n",
       " 729: '1075-BGWOH',\n",
       " 730: '1077-HUUJM',\n",
       " 731: '1078-TDCRN',\n",
       " 732: '1080-BWSYE',\n",
       " 733: '1084-MNSMJ',\n",
       " 734: '1084-UQCHV',\n",
       " 735: '1085-LDWAM',\n",
       " 736: '1086-LXKFY',\n",
       " 737: '1087-GRUYI',\n",
       " 738: '1087-UDSIH',\n",
       " 739: '1088-AUUZZ',\n",
       " 740: '1088-CNNKB',\n",
       " 741: '1089-HDMKP',\n",
       " 742: '1089-XZWHH',\n",
       " 743: '1090-ESELR',\n",
       " 744: '1090-PYKCI',\n",
       " 745: '1091-SOZGA',\n",
       " 746: '1092-GANHU',\n",
       " 747: '1092-WPIVQ',\n",
       " 748: '1093-YSWCA',\n",
       " 749: '1094-BKOSX',\n",
       " 750: '1095-JUDTC',\n",
       " 751: '1095-WGNGG',\n",
       " 752: '1096-ADRUX',\n",
       " 753: '1097-FSPVW',\n",
       " 754: '1098-KFQEC',\n",
       " 755: '1098-TDVUQ',\n",
       " 756: '1099-BTKWT',\n",
       " 757: '1099-GODLO',\n",
       " 758: '1100-DDVRV',\n",
       " 759: '1101-SSWAG',\n",
       " 760: '1104-FEJAM',\n",
       " 761: '1104-TNLZA',\n",
       " 762: '1106-HRLKZ',\n",
       " 763: '1110-KYLGQ',\n",
       " 764: '1112-CUNAO',\n",
       " 765: '1113-IUJYX',\n",
       " 766: '1114-CENIM',\n",
       " 767: '1116-DXXDF',\n",
       " 768: '1116-FRYVH',\n",
       " 769: '1120-BMWUB',\n",
       " 770: '1121-QSIVB',\n",
       " 771: '1122-JWTJW',\n",
       " 772: '1122-YJBCS',\n",
       " 773: '1125-SNVCK',\n",
       " 774: '1131-ALZWV',\n",
       " 775: '1131-QQZEB',\n",
       " 776: '1131-SUEKT',\n",
       " 777: '1133-KXCGE',\n",
       " 778: '1134-YWTYF',\n",
       " 779: '1135-HIORI',\n",
       " 780: '1135-LMECX',\n",
       " 781: '1136-XGEQU',\n",
       " 782: '1137-DGOWI',\n",
       " 783: '1139-WUOAH',\n",
       " 784: '1140-UKVZG',\n",
       " 785: '1142-IHLOO',\n",
       " 786: '1142-WACZW',\n",
       " 787: '1143-NMNQJ',\n",
       " 788: '1150-FTQGN',\n",
       " 789: '1150-WFARN',\n",
       " 790: '1153-GNOLC',\n",
       " 791: '1154-HYWWO',\n",
       " 792: '1156-ZFYDO',\n",
       " 793: '1157-BQCUW',\n",
       " 794: '1159-WFSGR',\n",
       " 795: '1162-ECVII',\n",
       " 796: '1163-ONYEY',\n",
       " 797: '1163-VIPRI',\n",
       " 798: '1166-PQLGG',\n",
       " 799: '1167-OYZJF',\n",
       " 800: '1169-SAOCL',\n",
       " 801: '1169-WCVAK',\n",
       " 802: '1170-SASML',\n",
       " 803: '1171-TYKUR',\n",
       " 804: '1172-VIYBP',\n",
       " 805: '1173-NOEYG',\n",
       " 806: '1173-XZPYF',\n",
       " 807: '1174-FGIFN',\n",
       " 808: '1177-XZBJL',\n",
       " 809: '1178-PZGAB',\n",
       " 810: '1179-INLAT',\n",
       " 811: '1183-CANVH',\n",
       " 812: '1184-PJVDB',\n",
       " 813: '1187-WILMM',\n",
       " 814: '1193-RTSLK',\n",
       " 815: '1194-BHJYC',\n",
       " 816: '1194-HVAIF',\n",
       " 817: '1194-SPVSP',\n",
       " 818: '1195-OIYEJ',\n",
       " 819: '1196-AMORA',\n",
       " 820: '1197-BVMVG',\n",
       " 821: '1200-TUZHR',\n",
       " 822: '1202-KKGFU',\n",
       " 823: '1205-WNWPJ',\n",
       " 824: '1206-EHBDD',\n",
       " 825: '1207-BLKSA',\n",
       " 826: '1208-DNHLN',\n",
       " 827: '1208-NBVFH',\n",
       " 828: '1209-VFFOC',\n",
       " 829: '1212-GLHMD',\n",
       " 830: '1213-NGCUN',\n",
       " 831: '1215-EXRMO',\n",
       " 832: '1215-FIGMP',\n",
       " 833: '1215-VFYVK',\n",
       " 834: '1216-BGTSP',\n",
       " 835: '1216-JWVUX',\n",
       " 836: '1217-VASWC',\n",
       " 837: '1218-VKFPE',\n",
       " 838: '1219-NNDDO',\n",
       " 839: '1221-GHZEP',\n",
       " 840: '1222-KJNZD',\n",
       " 841: '1222-LRYKO',\n",
       " 842: '1223-UNPKS',\n",
       " 843: '1226-IENZN',\n",
       " 844: '1226-JZNKR',\n",
       " 845: '1226-UDFZR',\n",
       " 846: '1227-UDMZR',\n",
       " 847: '1228-FZFRV',\n",
       " 848: '1228-ZLNBX',\n",
       " 849: '1229-RCALF',\n",
       " 850: '1230-QAJDW',\n",
       " 851: '1231-YNDEK',\n",
       " 852: '1236-WFCDV',\n",
       " 853: '1237-WIYYZ',\n",
       " 854: '1240-HCBOH',\n",
       " 855: '1240-KNSEZ',\n",
       " 856: '1241-EZFMJ',\n",
       " 857: '1241-FPMOF',\n",
       " 858: '1245-HARPS',\n",
       " 859: '1247-QBVSH',\n",
       " 860: '1248-DYXUB',\n",
       " 861: '1251-KRREG',\n",
       " 862: '1251-STYSZ',\n",
       " 863: '1254-IZEYF',\n",
       " 864: '1257-SXUXQ',\n",
       " 865: '1258-YMZNM',\n",
       " 866: '1260-TTRXI',\n",
       " 867: '1261-FWTTE',\n",
       " 868: '1262-OPMFY',\n",
       " 869: '1264-BYWMS',\n",
       " 870: '1264-FUHCX',\n",
       " 871: '1265-BCFEO',\n",
       " 872: '1265-HVPZB',\n",
       " 873: '1265-XTECC',\n",
       " 874: '1265-ZFOSD',\n",
       " 875: '1266-NZYUI',\n",
       " 876: '1268-ASBGA',\n",
       " 877: '1269-FOYWN',\n",
       " 878: '1270-XKUCC',\n",
       " 879: '1271-SJBGZ',\n",
       " 880: '1271-UODNO',\n",
       " 881: '1272-ILHFG',\n",
       " 882: '1273-MTETI',\n",
       " 883: '1282-IHQAC',\n",
       " 884: '1285-OKIPP',\n",
       " 885: '1291-CUOCY',\n",
       " 886: '1293-BSEUN',\n",
       " 887: '1293-HHSHJ',\n",
       " 888: '1297-VQDRP',\n",
       " 889: '1298-PHBTI',\n",
       " 890: '1299-AURJA',\n",
       " 891: '1301-LOPVR',\n",
       " 892: '1302-TPUBN',\n",
       " 893: '1302-UHBDD',\n",
       " 894: '1303-SRDOK',\n",
       " 895: '1304-BCCFO',\n",
       " 896: '1304-NECVQ',\n",
       " 897: '1304-SEGFY',\n",
       " 898: '1306-RPWXZ',\n",
       " 899: '1307-ATKGB',\n",
       " 900: '1307-TVUFB',\n",
       " 901: '1309-BXVOQ',\n",
       " 902: '1309-XGFSN',\n",
       " 903: '1310-QRITU',\n",
       " 904: '1319-YLZJG',\n",
       " 905: '1320-GVNHT',\n",
       " 906: '1320-HTRDR',\n",
       " 907: '1320-REHCS',\n",
       " 908: '1322-AGOQM',\n",
       " 909: '1323-OOEPC',\n",
       " 910: '1324-NLTJE',\n",
       " 911: '1325-USMEC',\n",
       " 912: '1328-EUZHC',\n",
       " 913: '1329-VHWNP',\n",
       " 914: '1333-PBMXB',\n",
       " 915: '1334-FJSVR',\n",
       " 916: '1334-PDUKM',\n",
       " 917: '1335-HQMKX',\n",
       " 918: '1335-MXCSE',\n",
       " 919: '1335-NTIUC',\n",
       " 920: '1336-EZFZY',\n",
       " 921: '1337-BOZWO',\n",
       " 922: '1338-CECEE',\n",
       " 923: '1342-JPNKI',\n",
       " 924: '1343-EHPYB',\n",
       " 925: '1345-GKDZZ',\n",
       " 926: '1345-ZUKID',\n",
       " 927: '1346-PJWTK',\n",
       " 928: '1346-UFHAX',\n",
       " 929: '1347-KTTTA',\n",
       " 930: '1349-WXNGG',\n",
       " 931: '1352-HNSAW',\n",
       " 932: '1352-VHKAJ',\n",
       " 933: '1353-GHZOS',\n",
       " 934: '1353-LJWEM',\n",
       " 935: '1354-YZFNB',\n",
       " 936: '1355-KUSBG',\n",
       " 937: '1356-MKYSK',\n",
       " 938: '1357-BIJKI',\n",
       " 939: '1357-MVDOZ',\n",
       " 940: '1360-JYXKQ',\n",
       " 941: '1360-RCYRT',\n",
       " 942: '1360-XFJMR',\n",
       " 943: '1363-TXLSL',\n",
       " 944: '1370-GGAWX',\n",
       " 945: '1371-OJCEK',\n",
       " 946: '1371-WEPDS',\n",
       " 947: '1373-ORVIZ',\n",
       " 948: '1374-DMZUI',\n",
       " 949: '1376-HHBDV',\n",
       " 950: '1379-FRVEB',\n",
       " 951: '1383-EZRWL',\n",
       " 952: '1384-RCUXW',\n",
       " 953: '1385-TQOZW',\n",
       " 954: '1386-ZIKUV',\n",
       " 955: '1389-CXMLU',\n",
       " 956: '1389-WNUIB',\n",
       " 957: '1391-UBDAR',\n",
       " 958: '1393-IMKZG',\n",
       " 959: '1394-SUIUH',\n",
       " 960: '1395-OFUWC',\n",
       " 961: '1395-WSWXR',\n",
       " 962: '1396-QWFBJ',\n",
       " 963: '1397-XKKWR',\n",
       " 964: '1399-OUPJN',\n",
       " 965: '1399-UBQIU',\n",
       " 966: '1400-MMYXY',\n",
       " 967: '1400-WIVLL',\n",
       " 968: '1401-FTHFQ',\n",
       " 969: '1402-PTHGN',\n",
       " 970: '1403-GYAFU',\n",
       " 971: '1403-LKLIK',\n",
       " 972: '1406-PUQVY',\n",
       " 973: '1407-DIGZV',\n",
       " 974: '1409-PHXTF',\n",
       " 975: '1410-RSCMR',\n",
       " 976: '1414-YADCW',\n",
       " 977: '1415-YFWLT',\n",
       " 978: '1421-HCERK',\n",
       " 979: '1422-DGUBX',\n",
       " 980: '1423-BMPBQ',\n",
       " 981: '1427-VERSM',\n",
       " 982: '1428-GTBJJ',\n",
       " 983: '1428-IEDPR',\n",
       " 984: '1429-UYJSV',\n",
       " 985: '1430-SFQSA',\n",
       " 986: '1431-AIDJQ',\n",
       " 987: '1431-CYWMH',\n",
       " 988: '1432-FPAXX',\n",
       " 989: '1436-ZMJAN',\n",
       " 990: '1439-LCGVL',\n",
       " 991: '1442-BQPVU',\n",
       " 992: '1442-OKRJE',\n",
       " 993: '1444-VVSGW',\n",
       " 994: '1447-GIQMR',\n",
       " 995: '1447-PJGGA',\n",
       " 996: '1448-CYWKC',\n",
       " 997: '1448-PWKYE',\n",
       " 998: '1449-XQEMT',\n",
       " 999: '1450-GALXR',\n",
       " ...}"
      ]
     },
     "execution_count": 22,
     "metadata": {},
     "output_type": "execute_result"
    }
   ],
   "source": [
    "df['customerID'] = encoder.fit_transform(df['customerID'])\n",
    "customerID = {index : label for index, label in enumerate(encoder.classes_)}\n",
    "customerID"
   ]
  },
  {
   "cell_type": "code",
   "execution_count": 23,
   "id": "5e093672",
   "metadata": {
    "execution": {
     "iopub.execute_input": "2023-05-04T19:39:21.187080Z",
     "iopub.status.busy": "2023-05-04T19:39:21.185862Z",
     "iopub.status.idle": "2023-05-04T19:39:21.200594Z",
     "shell.execute_reply": "2023-05-04T19:39:21.199154Z"
    },
    "id": "3jNW1WttNdzf",
    "outputId": "78fa7922-5914-48d2-e681-411724887f9e",
    "papermill": {
     "duration": 0.034405,
     "end_time": "2023-05-04T19:39:21.203198",
     "exception": false,
     "start_time": "2023-05-04T19:39:21.168793",
     "status": "completed"
    },
    "tags": []
   },
   "outputs": [
    {
     "data": {
      "text/plain": [
       "{0: 'Female', 1: 'Male'}"
      ]
     },
     "execution_count": 23,
     "metadata": {},
     "output_type": "execute_result"
    }
   ],
   "source": [
    "df['gender'] = encoder.fit_transform(df['gender'])\n",
    "gender = {index : label for index, label in enumerate(encoder.classes_)}\n",
    "gender"
   ]
  },
  {
   "cell_type": "code",
   "execution_count": 24,
   "id": "8475d4bd",
   "metadata": {
    "execution": {
     "iopub.execute_input": "2023-05-04T19:39:21.235497Z",
     "iopub.status.busy": "2023-05-04T19:39:21.234744Z",
     "iopub.status.idle": "2023-05-04T19:39:21.244664Z",
     "shell.execute_reply": "2023-05-04T19:39:21.243693Z"
    },
    "id": "ons2blKGNdzg",
    "outputId": "f8c14eb9-e61b-4f4a-bc73-53bc0dfdf4b8",
    "papermill": {
     "duration": 0.02846,
     "end_time": "2023-05-04T19:39:21.246794",
     "exception": false,
     "start_time": "2023-05-04T19:39:21.218334",
     "status": "completed"
    },
    "tags": []
   },
   "outputs": [
    {
     "data": {
      "text/plain": [
       "{0: 'No', 1: 'Yes'}"
      ]
     },
     "execution_count": 24,
     "metadata": {},
     "output_type": "execute_result"
    }
   ],
   "source": [
    "df['Partner'] = encoder.fit_transform(df['Partner'])\n",
    "Partner = {index : label for index, label in enumerate(encoder.classes_)}\n",
    "Partner"
   ]
  },
  {
   "cell_type": "code",
   "execution_count": 25,
   "id": "2ca0e1a3",
   "metadata": {
    "execution": {
     "iopub.execute_input": "2023-05-04T19:39:21.279094Z",
     "iopub.status.busy": "2023-05-04T19:39:21.277770Z",
     "iopub.status.idle": "2023-05-04T19:39:21.289759Z",
     "shell.execute_reply": "2023-05-04T19:39:21.288396Z"
    },
    "id": "gzLlYDyvNdzy",
    "outputId": "ad9fa9bf-75ad-4be3-af70-6af99291b010",
    "papermill": {
     "duration": 0.031044,
     "end_time": "2023-05-04T19:39:21.292631",
     "exception": false,
     "start_time": "2023-05-04T19:39:21.261587",
     "status": "completed"
    },
    "tags": []
   },
   "outputs": [
    {
     "data": {
      "text/plain": [
       "{0: 'No', 1: 'Yes'}"
      ]
     },
     "execution_count": 25,
     "metadata": {},
     "output_type": "execute_result"
    }
   ],
   "source": [
    "df['Dependents'] = encoder.fit_transform(df['Dependents'])\n",
    "Dependents = {index : label for index, label in enumerate(encoder.classes_)}\n",
    "Dependents"
   ]
  },
  {
   "cell_type": "code",
   "execution_count": 26,
   "id": "072766b6",
   "metadata": {
    "execution": {
     "iopub.execute_input": "2023-05-04T19:39:21.324732Z",
     "iopub.status.busy": "2023-05-04T19:39:21.324281Z",
     "iopub.status.idle": "2023-05-04T19:39:21.335732Z",
     "shell.execute_reply": "2023-05-04T19:39:21.334526Z"
    },
    "id": "1lrcOKwcNdzz",
    "outputId": "2b1a6346-44bc-4d71-bf16-1290a60a825a",
    "papermill": {
     "duration": 0.030566,
     "end_time": "2023-05-04T19:39:21.338066",
     "exception": false,
     "start_time": "2023-05-04T19:39:21.307500",
     "status": "completed"
    },
    "tags": []
   },
   "outputs": [
    {
     "data": {
      "text/plain": [
       "{0: 'No', 1: 'Yes'}"
      ]
     },
     "execution_count": 26,
     "metadata": {},
     "output_type": "execute_result"
    }
   ],
   "source": [
    "df['PhoneService'] = encoder.fit_transform(df['PhoneService'])\n",
    "PhoneService = {index : label for index, label in enumerate(encoder.classes_)}\n",
    "PhoneService"
   ]
  },
  {
   "cell_type": "code",
   "execution_count": 27,
   "id": "d8f0070d",
   "metadata": {
    "execution": {
     "iopub.execute_input": "2023-05-04T19:39:21.372791Z",
     "iopub.status.busy": "2023-05-04T19:39:21.372102Z",
     "iopub.status.idle": "2023-05-04T19:39:21.384716Z",
     "shell.execute_reply": "2023-05-04T19:39:21.383565Z"
    },
    "id": "7criU17iNdz1",
    "outputId": "2065909f-e527-4607-de5a-40467e604f0c",
    "papermill": {
     "duration": 0.034149,
     "end_time": "2023-05-04T19:39:21.387955",
     "exception": false,
     "start_time": "2023-05-04T19:39:21.353806",
     "status": "completed"
    },
    "tags": []
   },
   "outputs": [
    {
     "data": {
      "text/plain": [
       "{0: 'No', 1: 'No phone service', 2: 'Yes'}"
      ]
     },
     "execution_count": 27,
     "metadata": {},
     "output_type": "execute_result"
    }
   ],
   "source": [
    "df['MultipleLines'] = encoder.fit_transform(df['MultipleLines'])\n",
    "MultipleLines = {index : label for index, label in enumerate(encoder.classes_)}\n",
    "MultipleLines"
   ]
  },
  {
   "cell_type": "code",
   "execution_count": 28,
   "id": "34626ee6",
   "metadata": {
    "execution": {
     "iopub.execute_input": "2023-05-04T19:39:21.422675Z",
     "iopub.status.busy": "2023-05-04T19:39:21.422211Z",
     "iopub.status.idle": "2023-05-04T19:39:21.434863Z",
     "shell.execute_reply": "2023-05-04T19:39:21.433520Z"
    },
    "id": "gB1Fo5G9Nd0A",
    "outputId": "048ed43e-fd03-4b37-b620-9800beb11890",
    "papermill": {
     "duration": 0.033441,
     "end_time": "2023-05-04T19:39:21.437342",
     "exception": false,
     "start_time": "2023-05-04T19:39:21.403901",
     "status": "completed"
    },
    "tags": []
   },
   "outputs": [
    {
     "data": {
      "text/plain": [
       "{0: 'DSL', 1: 'Fiber optic', 2: 'No'}"
      ]
     },
     "execution_count": 28,
     "metadata": {},
     "output_type": "execute_result"
    }
   ],
   "source": [
    "df['InternetService'] = encoder.fit_transform(df['InternetService'])\n",
    "InternetService = {index : label for index, label in enumerate(encoder.classes_)}\n",
    "InternetService"
   ]
  },
  {
   "cell_type": "code",
   "execution_count": 29,
   "id": "733e43b4",
   "metadata": {
    "execution": {
     "iopub.execute_input": "2023-05-04T19:39:21.470596Z",
     "iopub.status.busy": "2023-05-04T19:39:21.470118Z",
     "iopub.status.idle": "2023-05-04T19:39:21.483099Z",
     "shell.execute_reply": "2023-05-04T19:39:21.481359Z"
    },
    "id": "I0uOAVT-Nd0B",
    "outputId": "9eddecac-bf3c-4f8a-8715-f5f8a287eb06",
    "papermill": {
     "duration": 0.033711,
     "end_time": "2023-05-04T19:39:21.486353",
     "exception": false,
     "start_time": "2023-05-04T19:39:21.452642",
     "status": "completed"
    },
    "tags": []
   },
   "outputs": [
    {
     "data": {
      "text/plain": [
       "{0: 'No', 1: 'No internet service', 2: 'Yes'}"
      ]
     },
     "execution_count": 29,
     "metadata": {},
     "output_type": "execute_result"
    }
   ],
   "source": [
    "df['OnlineSecurity'] = encoder.fit_transform(df['OnlineSecurity'])\n",
    "OnlineSecurity = {index : label for index, label in enumerate(encoder.classes_)}\n",
    "OnlineSecurity"
   ]
  },
  {
   "cell_type": "code",
   "execution_count": 30,
   "id": "3d3a195c",
   "metadata": {
    "execution": {
     "iopub.execute_input": "2023-05-04T19:39:21.519804Z",
     "iopub.status.busy": "2023-05-04T19:39:21.519379Z",
     "iopub.status.idle": "2023-05-04T19:39:21.530622Z",
     "shell.execute_reply": "2023-05-04T19:39:21.529187Z"
    },
    "id": "3iUwxr9ENd0C",
    "outputId": "f6178850-81ba-4f36-e7b1-82bec314913b",
    "papermill": {
     "duration": 0.031149,
     "end_time": "2023-05-04T19:39:21.533318",
     "exception": false,
     "start_time": "2023-05-04T19:39:21.502169",
     "status": "completed"
    },
    "tags": []
   },
   "outputs": [
    {
     "data": {
      "text/plain": [
       "{0: 0, 1: 1, 2: 2}"
      ]
     },
     "execution_count": 30,
     "metadata": {},
     "output_type": "execute_result"
    }
   ],
   "source": [
    "df['OnlineBackup'] = encoder.fit_transform(df['OnlineSecurity'])\n",
    "OnlineSecurity = {index : label for index, label in enumerate(encoder.classes_)}\n",
    "OnlineSecurity"
   ]
  },
  {
   "cell_type": "code",
   "execution_count": 31,
   "id": "b4e1e1e3",
   "metadata": {
    "execution": {
     "iopub.execute_input": "2023-05-04T19:39:21.568485Z",
     "iopub.status.busy": "2023-05-04T19:39:21.568046Z",
     "iopub.status.idle": "2023-05-04T19:39:21.580873Z",
     "shell.execute_reply": "2023-05-04T19:39:21.579315Z"
    },
    "id": "Fik5vUuxNd0E",
    "outputId": "f20b9bda-cde3-4ccc-9657-1632ccd19034",
    "papermill": {
     "duration": 0.03369,
     "end_time": "2023-05-04T19:39:21.583599",
     "exception": false,
     "start_time": "2023-05-04T19:39:21.549909",
     "status": "completed"
    },
    "tags": []
   },
   "outputs": [
    {
     "data": {
      "text/plain": [
       "{0: 'No', 1: 'No internet service', 2: 'Yes'}"
      ]
     },
     "execution_count": 31,
     "metadata": {},
     "output_type": "execute_result"
    }
   ],
   "source": [
    "df['DeviceProtection'] = encoder.fit_transform(df['DeviceProtection'])\n",
    "DeviceProtection = {index : label for index, label in enumerate(encoder.classes_)}\n",
    "DeviceProtection"
   ]
  },
  {
   "cell_type": "code",
   "execution_count": 32,
   "id": "5e001d85",
   "metadata": {
    "execution": {
     "iopub.execute_input": "2023-05-04T19:39:21.618561Z",
     "iopub.status.busy": "2023-05-04T19:39:21.617304Z",
     "iopub.status.idle": "2023-05-04T19:39:21.628446Z",
     "shell.execute_reply": "2023-05-04T19:39:21.626968Z"
    },
    "id": "FOktebZnNd0H",
    "outputId": "52bb78ee-b550-4c0a-8969-4575f5a36799",
    "papermill": {
     "duration": 0.031511,
     "end_time": "2023-05-04T19:39:21.631152",
     "exception": false,
     "start_time": "2023-05-04T19:39:21.599641",
     "status": "completed"
    },
    "tags": []
   },
   "outputs": [
    {
     "data": {
      "text/plain": [
       "{0: 'No', 1: 'No internet service', 2: 'Yes'}"
      ]
     },
     "execution_count": 32,
     "metadata": {},
     "output_type": "execute_result"
    }
   ],
   "source": [
    "df['TechSupport'] = encoder.fit_transform(df['TechSupport'])\n",
    "TechSupport = {index : label for index, label in enumerate(encoder.classes_)}\n",
    "TechSupport"
   ]
  },
  {
   "cell_type": "code",
   "execution_count": 33,
   "id": "13d777b0",
   "metadata": {
    "execution": {
     "iopub.execute_input": "2023-05-04T19:39:21.666555Z",
     "iopub.status.busy": "2023-05-04T19:39:21.665282Z",
     "iopub.status.idle": "2023-05-04T19:39:21.676257Z",
     "shell.execute_reply": "2023-05-04T19:39:21.675007Z"
    },
    "id": "tKSFQOabNd0K",
    "outputId": "8d92ac8a-db3c-4d74-efb8-410a50f971c4",
    "papermill": {
     "duration": 0.031077,
     "end_time": "2023-05-04T19:39:21.678923",
     "exception": false,
     "start_time": "2023-05-04T19:39:21.647846",
     "status": "completed"
    },
    "tags": []
   },
   "outputs": [
    {
     "data": {
      "text/plain": [
       "{0: 'No', 1: 'No internet service', 2: 'Yes'}"
      ]
     },
     "execution_count": 33,
     "metadata": {},
     "output_type": "execute_result"
    }
   ],
   "source": [
    "df['StreamingTV'] = encoder.fit_transform(df['StreamingTV'])\n",
    "StreamingTV = {index : label for index, label in enumerate(encoder.classes_)}\n",
    "StreamingTV"
   ]
  },
  {
   "cell_type": "code",
   "execution_count": 34,
   "id": "ccd86eee",
   "metadata": {
    "execution": {
     "iopub.execute_input": "2023-05-04T19:39:21.715413Z",
     "iopub.status.busy": "2023-05-04T19:39:21.714034Z",
     "iopub.status.idle": "2023-05-04T19:39:21.724114Z",
     "shell.execute_reply": "2023-05-04T19:39:21.723345Z"
    },
    "id": "75tUHUn3Nd0N",
    "outputId": "3f19f5d0-b915-4f93-a8d6-caf6ac525a36",
    "papermill": {
     "duration": 0.031247,
     "end_time": "2023-05-04T19:39:21.726671",
     "exception": false,
     "start_time": "2023-05-04T19:39:21.695424",
     "status": "completed"
    },
    "tags": []
   },
   "outputs": [
    {
     "data": {
      "text/plain": [
       "{0: 'No', 1: 'No internet service', 2: 'Yes'}"
      ]
     },
     "execution_count": 34,
     "metadata": {},
     "output_type": "execute_result"
    }
   ],
   "source": [
    "df['StreamingMovies'] = encoder.fit_transform(df['StreamingMovies'])\n",
    "StreamingMovies = {index : label for index, label in enumerate(encoder.classes_)}\n",
    "StreamingMovies"
   ]
  },
  {
   "cell_type": "code",
   "execution_count": 35,
   "id": "9a1abfbe",
   "metadata": {
    "execution": {
     "iopub.execute_input": "2023-05-04T19:39:21.761667Z",
     "iopub.status.busy": "2023-05-04T19:39:21.761260Z",
     "iopub.status.idle": "2023-05-04T19:39:21.771615Z",
     "shell.execute_reply": "2023-05-04T19:39:21.770458Z"
    },
    "id": "F9KY0VQ8Nd0O",
    "outputId": "1d13685d-2f7f-497b-ee25-9fd53e40a220",
    "papermill": {
     "duration": 0.030571,
     "end_time": "2023-05-04T19:39:21.773924",
     "exception": false,
     "start_time": "2023-05-04T19:39:21.743353",
     "status": "completed"
    },
    "tags": []
   },
   "outputs": [
    {
     "data": {
      "text/plain": [
       "{0: 'Month-to-month', 1: 'One year', 2: 'Two year'}"
      ]
     },
     "execution_count": 35,
     "metadata": {},
     "output_type": "execute_result"
    }
   ],
   "source": [
    "df['Contract'] = encoder.fit_transform(df['Contract'])\n",
    "Contract = {index : label for index, label in enumerate(encoder.classes_)}\n",
    "Contract"
   ]
  },
  {
   "cell_type": "code",
   "execution_count": 36,
   "id": "f09a0a35",
   "metadata": {
    "execution": {
     "iopub.execute_input": "2023-05-04T19:39:21.807931Z",
     "iopub.status.busy": "2023-05-04T19:39:21.807524Z",
     "iopub.status.idle": "2023-05-04T19:39:21.818073Z",
     "shell.execute_reply": "2023-05-04T19:39:21.816859Z"
    },
    "id": "F8J59QKFNd0R",
    "outputId": "c00a9bf9-5dba-4f79-950d-00b9fc930950",
    "papermill": {
     "duration": 0.030563,
     "end_time": "2023-05-04T19:39:21.820445",
     "exception": false,
     "start_time": "2023-05-04T19:39:21.789882",
     "status": "completed"
    },
    "tags": []
   },
   "outputs": [
    {
     "data": {
      "text/plain": [
       "{0: 'No', 1: 'Yes'}"
      ]
     },
     "execution_count": 36,
     "metadata": {},
     "output_type": "execute_result"
    }
   ],
   "source": [
    "df['PaperlessBilling'] = encoder.fit_transform(df['PaperlessBilling'])\n",
    "PaperlessBilling = {index : label for index, label in enumerate(encoder.classes_)}\n",
    "PaperlessBilling"
   ]
  },
  {
   "cell_type": "markdown",
   "id": "26131b35",
   "metadata": {},
   "source": [
    "<h3>Separate the target variable y from the feature matrix X. This separation allows you to perform modeling or predictive analysis on the features in X to predict the target variable y.</h3>"
   ]
  },
  {
   "cell_type": "code",
   "execution_count": 37,
   "id": "f339dc16",
   "metadata": {
    "execution": {
     "iopub.execute_input": "2023-05-04T19:39:21.854504Z",
     "iopub.status.busy": "2023-05-04T19:39:21.854069Z",
     "iopub.status.idle": "2023-05-04T19:39:21.861635Z",
     "shell.execute_reply": "2023-05-04T19:39:21.860394Z"
    },
    "id": "PV-DIVAkNd0T",
    "papermill": {
     "duration": 0.027692,
     "end_time": "2023-05-04T19:39:21.864011",
     "exception": false,
     "start_time": "2023-05-04T19:39:21.836319",
     "status": "completed"
    },
    "tags": []
   },
   "outputs": [],
   "source": [
    "y = df['Churn'].values\n",
    "X = df.drop(columns = ['Churn'])"
   ]
  },
  {
   "cell_type": "markdown",
   "id": "541aa908",
   "metadata": {},
   "source": [
    "<h3>Scale the values in the feature matrix X using the minimum and maximum values of each feature. This scaling ensures that all the features are on a similar scale, which can be beneficial for certain machine learning algorithms that are sensitive to the scale of the features.</h3>"
   ]
  },
  {
   "cell_type": "code",
   "execution_count": 38,
   "id": "9f84dbf2",
   "metadata": {
    "execution": {
     "iopub.execute_input": "2023-05-04T19:39:21.898321Z",
     "iopub.status.busy": "2023-05-04T19:39:21.897884Z",
     "iopub.status.idle": "2023-05-04T19:39:21.916875Z",
     "shell.execute_reply": "2023-05-04T19:39:21.915995Z"
    },
    "id": "4LZxDZOENd0V",
    "outputId": "0fd0eba2-06eb-45ae-f321-70731734a9c5",
    "papermill": {
     "duration": 0.0395,
     "end_time": "2023-05-04T19:39:21.919597",
     "exception": false,
     "start_time": "2023-05-04T19:39:21.880097",
     "status": "completed"
    },
    "tags": []
   },
   "outputs": [
    {
     "name": "stdout",
     "output_type": "stream",
     "text": [
      "x \n",
      " [[0.76304935 0.         0.         1.         0.         0.\n",
      "  0.         0.5        0.         0.         0.         0.\n",
      "  0.         0.         0.         0.         1.         0.66666667\n",
      "  0.11542289 0.0012751 ]\n",
      " [0.56222443 1.         0.         0.         0.         0.46478873\n",
      "  1.         0.         0.         1.         1.         1.\n",
      "  0.         0.         0.         0.5        0.         1.\n",
      "  0.38507463 0.21586661]\n",
      " [0.36381738 1.         0.         0.         0.         0.01408451\n",
      "  1.         0.         0.         1.         1.         0.\n",
      "  0.         0.         0.         0.         1.         1.\n",
      "  0.35422886 0.01031041]\n",
      " [0.78566349 1.         0.         0.         0.         0.61971831\n",
      "  0.         0.5        0.         1.         1.         1.\n",
      "  1.         0.         0.         0.5        0.         0.\n",
      "  0.23930348 0.21024117]\n",
      " [0.92447731 0.         0.         0.         0.         0.01408451\n",
      "  1.         0.         0.5        0.         0.         0.\n",
      "  0.         0.         0.         0.         1.         0.66666667\n",
      "  0.52189055 0.01533003]\n",
      " [0.93016641 0.         0.         0.         0.         0.09859155\n",
      "  1.         1.         0.5        0.         0.         1.\n",
      "  0.         1.         1.         0.         1.         0.66666667\n",
      "  0.80995025 0.09251096]\n",
      " [0.14236951 1.         0.         0.         1.         0.29577465\n",
      "  1.         1.         0.5        0.         0.         0.\n",
      "  0.         1.         0.         0.         1.         0.33333333\n",
      "  0.70497512 0.22277868]\n",
      " [0.67700185 0.         0.         0.         0.         0.12676056\n",
      "  0.         0.5        0.         1.         1.         0.\n",
      "  0.         0.         0.         0.         0.         1.\n",
      "  0.11442786 0.0326679 ]\n",
      " [0.79547717 0.         0.         1.         0.         0.38028169\n",
      "  1.         1.         0.5        0.         0.         1.\n",
      "  1.         1.         1.         0.         1.         0.66666667\n",
      "  0.86119403 0.34932495]\n",
      " [0.64343621 1.         0.         0.         1.         0.85915493\n",
      "  1.         0.         0.         1.         1.         0.\n",
      "  0.         0.         0.         0.5        0.         0.\n",
      "  0.37711443 0.40031733]]\n",
      "y \n",
      " [0 0 1 0 1 1 0 0 1 0]\n"
     ]
    }
   ],
   "source": [
    "from sklearn.preprocessing import MinMaxScaler\n",
    "scaler = MinMaxScaler(copy=True, feature_range=(0, 1))\n",
    "X = scaler.fit_transform(X)\n",
    "\n",
    "#showing data\n",
    "print('x \\n' , X[:10])\n",
    "print('y \\n' , y[:10])"
   ]
  },
  {
   "cell_type": "markdown",
   "id": "79b2b3e7",
   "metadata": {
    "id": "rWp_UKpPP0Ky",
    "papermill": {
     "duration": 0.01568,
     "end_time": "2023-05-04T19:39:21.951327",
     "exception": false,
     "start_time": "2023-05-04T19:39:21.935647",
     "status": "completed"
    },
    "tags": []
   },
   "source": [
    "<h2>SPLIT DATA INTO TRAIN AND TEST DATASET</h2>"
   ]
  },
  {
   "cell_type": "code",
   "execution_count": 39,
   "id": "3910d959",
   "metadata": {
    "execution": {
     "iopub.execute_input": "2023-05-04T19:39:21.986389Z",
     "iopub.status.busy": "2023-05-04T19:39:21.985956Z",
     "iopub.status.idle": "2023-05-04T19:39:22.138363Z",
     "shell.execute_reply": "2023-05-04T19:39:22.136728Z"
    },
    "id": "-Dwu8_WKNd0W",
    "papermill": {
     "duration": 0.174055,
     "end_time": "2023-05-04T19:39:22.141325",
     "exception": false,
     "start_time": "2023-05-04T19:39:21.967270",
     "status": "completed"
    },
    "tags": []
   },
   "outputs": [],
   "source": [
    "from sklearn.model_selection import train_test_split\n",
    "X_train,X_test,y_train,y_test=train_test_split(X,y,test_size=30,random_state=0)"
   ]
  },
  {
   "cell_type": "markdown",
   "id": "46e83553",
   "metadata": {
    "id": "kxBF8vCAPuVh",
    "papermill": {
     "duration": 0.016169,
     "end_time": "2023-05-04T19:39:22.174777",
     "exception": false,
     "start_time": "2023-05-04T19:39:22.158608",
     "status": "completed"
    },
    "tags": []
   },
   "source": [
    "<h2>MODEL</h2>"
   ]
  },
  {
   "cell_type": "code",
   "execution_count": 40,
   "id": "9ef2ce0a",
   "metadata": {
    "execution": {
     "iopub.execute_input": "2023-05-04T19:39:22.392261Z",
     "iopub.status.busy": "2023-05-04T19:39:22.391358Z",
     "iopub.status.idle": "2023-05-04T19:39:22.515185Z",
     "shell.execute_reply": "2023-05-04T19:39:22.513564Z"
    },
    "id": "z2NvPW2QNd0Z",
    "outputId": "2b469b2b-8600-4a1a-d890-543c59b4af05",
    "papermill": {
     "duration": 0.146727,
     "end_time": "2023-05-04T19:39:22.519812",
     "exception": false,
     "start_time": "2023-05-04T19:39:22.373085",
     "status": "completed"
    },
    "tags": []
   },
   "outputs": [
    {
     "name": "stdout",
     "output_type": "stream",
     "text": [
      "LogisticRegressionModel Train Score is :  0.8056269637246501\n",
      "LogisticRegressionModel Test Score is :  0.8333333333333334\n",
      "LogisticRegressionModel Classes are :  [0 1]\n",
      "LogisticRegressionModel No. of iteratios is :  [28]\n",
      "----------------------------------------------------\n",
      "Predicted Value for LogisticRegressionModel is :  [0 0 0 1 1 0 0 1 0 0]\n",
      "Prediction Probabilities Value for LogisticRegressionModel is :  [[0.79492667 0.20507333]\n",
      " [0.84049315 0.15950685]\n",
      " [0.81140841 0.18859159]\n",
      " [0.41279408 0.58720592]\n",
      " [0.24185618 0.75814382]\n",
      " [0.6509279  0.3490721 ]\n",
      " [0.721617   0.278383  ]\n",
      " [0.35994968 0.64005032]\n",
      " [0.7658831  0.2341169 ]\n",
      " [0.60855041 0.39144959]]\n"
     ]
    }
   ],
   "source": [
    "# Import the LogisticRegression class from the sklearn.linear_model module.\n",
    "from sklearn.linear_model import LogisticRegression\n",
    "LogisticRegressionModel = LogisticRegression(penalty='l2',solver='sag',C=1.0,random_state=33)\n",
    "\n",
    "# Fit the model to the training data.\n",
    "LogisticRegressionModel.fit(X_train, y_train)\n",
    "\n",
    "#Calculating Details\n",
    "# Calculate the train and test scores.\n",
    "print('LogisticRegressionModel Train Score is : ' , LogisticRegressionModel.score(X_train, y_train))\n",
    "print('LogisticRegressionModel Test Score is : ' , LogisticRegressionModel.score(X_test, y_test))\n",
    "\n",
    "# Print the classes of the model.\n",
    "print('LogisticRegressionModel Classes are : ' , LogisticRegressionModel.classes_)\n",
    "\n",
    "# Print the number of iterations used by the model.\n",
    "print('LogisticRegressionModel No. of iteratios is : ' , LogisticRegressionModel.n_iter_)\n",
    "print('----------------------------------------------------')\n",
    "\n",
    "#Calculating Prediction\n",
    "y_pred = LogisticRegressionModel.predict(X_test)\n",
    "y_pred_prob = LogisticRegressionModel.predict_proba(X_test)\n",
    "\n",
    "# Print the first 10 predicted values.\n",
    "print('Predicted Value for LogisticRegressionModel is : ' , y_pred[:10])\n",
    "\n",
    "# Print the first 10 prediction probabilities.\n",
    "print('Prediction Probabilities Value for LogisticRegressionModel is : ' , y_pred_prob[:10])"
   ]
  },
  {
   "cell_type": "markdown",
   "id": "443bce5d",
   "metadata": {
    "id": "akWDKMR0PeXI",
    "papermill": {
     "duration": 0.042987,
     "end_time": "2023-05-04T19:39:22.607074",
     "exception": false,
     "start_time": "2023-05-04T19:39:22.564087",
     "status": "completed"
    },
    "tags": []
   },
   "source": [
    "<h3>Model Accuracy</h3>"
   ]
  },
  {
   "cell_type": "code",
   "execution_count": 41,
   "id": "d2cdccd3",
   "metadata": {
    "execution": {
     "iopub.execute_input": "2023-05-04T19:39:22.651461Z",
     "iopub.status.busy": "2023-05-04T19:39:22.651032Z",
     "iopub.status.idle": "2023-05-04T19:39:22.658607Z",
     "shell.execute_reply": "2023-05-04T19:39:22.657245Z"
    },
    "id": "_qvMK6tJNd0a",
    "outputId": "05be7a2c-2c65-4258-d43b-402b9582eff4",
    "papermill": {
     "duration": 0.02752,
     "end_time": "2023-05-04T19:39:22.660937",
     "exception": false,
     "start_time": "2023-05-04T19:39:22.633417",
     "status": "completed"
    },
    "tags": []
   },
   "outputs": [
    {
     "name": "stdout",
     "output_type": "stream",
     "text": [
      "0.8333333333333334\n"
     ]
    }
   ],
   "source": [
    "from sklearn import metrics\n",
    "prediction_test = LogisticRegressionModel.predict(X_test)\n",
    "# Print the prediction accuracy\n",
    "print (metrics.accuracy_score(y_test, prediction_test))"
   ]
  },
  {
   "cell_type": "code",
   "execution_count": 42,
   "id": "dcded62e",
   "metadata": {
    "execution": {
     "iopub.execute_input": "2023-05-04T19:39:22.697739Z",
     "iopub.status.busy": "2023-05-04T19:39:22.696621Z",
     "iopub.status.idle": "2023-05-04T19:39:22.982644Z",
     "shell.execute_reply": "2023-05-04T19:39:22.981202Z"
    },
    "id": "hWH-obsTO94V",
    "outputId": "a809331a-d5bf-4719-d099-003528ac53bf",
    "papermill": {
     "duration": 0.307354,
     "end_time": "2023-05-04T19:39:22.985714",
     "exception": false,
     "start_time": "2023-05-04T19:39:22.678360",
     "status": "completed"
    },
    "tags": []
   },
   "outputs": [
    {
     "data": {
      "image/png": "[encoded data removed]",
      "text/plain": [
       "<Figure size 640x480 with 2 Axes>"
      ]
     },
     "metadata": {},
     "output_type": "display_data"
    }
   ],
   "source": [
    "from sklearn.metrics import confusion_matrix\n",
    "from sklearn.metrics import ConfusionMatrixDisplay\n",
    "\n",
    "# DecisionTreeClassifier  Model confusion_matrixconfusion_matrix\n",
    "y_pred = LogisticRegressionModel.predict(X_test)\n",
    "CM = confusion_matrix(y_test, y_pred)\n",
    "\n",
    "CM_display = ConfusionMatrixDisplay(CM).plot()"
   ]
  },
  {
   "cell_type": "code",
   "execution_count": 43,
   "id": "08c7eae1",
   "metadata": {
    "execution": {
     "iopub.execute_input": "2023-05-04T19:39:23.025648Z",
     "iopub.status.busy": "2023-05-04T19:39:23.025183Z",
     "iopub.status.idle": "2023-05-04T19:39:23.030314Z",
     "shell.execute_reply": "2023-05-04T19:39:23.029311Z"
    },
    "id": "3V3Hqu2FQ0nv",
    "papermill": {
     "duration": 0.029392,
     "end_time": "2023-05-04T19:39:23.032837",
     "exception": false,
     "start_time": "2023-05-04T19:39:23.003445",
     "status": "completed"
    },
    "tags": []
   },
   "outputs": [],
   "source": [
    "from sklearn.metrics import classification_report"
   ]
  },
  {
   "cell_type": "markdown",
   "id": "7ac1117c",
   "metadata": {},
   "source": [
    "<h3>Print the classification report for the logistic regression model's predictions on the test set. The report will provide a summary of the model's performance in terms of precision, recall, F1-score, and other metrics for each class in the target variable.</h3>"
   ]
  },
  {
   "cell_type": "code",
   "execution_count": 44,
   "id": "9e141d34",
   "metadata": {
    "execution": {
     "iopub.execute_input": "2023-05-04T19:39:23.068352Z",
     "iopub.status.busy": "2023-05-04T19:39:23.067893Z",
     "iopub.status.idle": "2023-05-04T19:39:23.081807Z",
     "shell.execute_reply": "2023-05-04T19:39:23.080225Z"
    },
    "id": "azKUZ_Z9Q9g3",
    "outputId": "7ed435a2-36bd-4d89-f2f0-1349e614b687",
    "papermill": {
     "duration": 0.034833,
     "end_time": "2023-05-04T19:39:23.084483",
     "exception": false,
     "start_time": "2023-05-04T19:39:23.049650",
     "status": "completed"
    },
    "tags": []
   },
   "outputs": [
    {
     "name": "stdout",
     "output_type": "stream",
     "text": [
      "              precision    recall  f1-score   support\n",
      "\n",
      "           0       0.83      0.95      0.89        21\n",
      "           1       0.83      0.56      0.67         9\n",
      "\n",
      "    accuracy                           0.83        30\n",
      "   macro avg       0.83      0.75      0.78        30\n",
      "weighted avg       0.83      0.83      0.82        30\n",
      "\n"
     ]
    }
   ],
   "source": [
    "print(classification_report(y_test, y_pred))"
   ]
  }
 ],
 "metadata": {
  "kernelspec": {
   "display_name": "Python 3 (ipykernel)",
   "language": "python",
   "name": "python3"
  },
  "language_info": {
   "codemirror_mode": {
    "name": "ipython",
    "version": 3
   },
   "file_extension": ".py",
   "mimetype": "text/x-python",
   "name": "python",
   "nbconvert_exporter": "python",
   "pygments_lexer": "ipython3",
   "version": "3.9.13"
  },
  "papermill": {
   "default_parameters": {},
   "duration": 18.718412,
   "end_time": "2023-05-04T19:39:24.226923",
   "environment_variables": {},
   "exception": null,
   "input_path": "__notebook__.ipynb",
   "output_path": "__notebook__.ipynb",
   "parameters": {},
   "start_time": "2023-05-04T19:39:05.508511",
   "version": "2.4.0"
  }
 },
 "nbformat": 4,
 "nbformat_minor": 5
}
